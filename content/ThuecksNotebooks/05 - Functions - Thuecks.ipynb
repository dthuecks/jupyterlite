{
 "cells": [
  {
   "cell_type": "markdown",
   "metadata": {},
   "source": [
    "# 5 - User-Defined Functions and Good Programming Style<br>*(Ch. 2.6 and Ch. 2.7)*\n",
    "\n",
    "## Many times we would like to have some code that we can use over and over again without copy/pasting it every time.\n",
    "\n",
    "To do this we can write a *function*. (Like the built-in functions that are loaded by Python when it starts.)\n",
    "\n",
    "The basic syntax is:"
   ]
  },
  {
   "cell_type": "code",
   "execution_count": null,
   "metadata": {},
   "outputs": [],
   "source": [
    "# Example 1\n",
    "def sample_function1():\n",
    "    print(\"A function just executed, oh my!\")\n",
    "\n",
    "sample_function1()\n",
    "\n",
    "# Example 2\n",
    "def sample_function2(a,b):\n",
    "    \n",
    "    return a,b  #a**b\n",
    "\n",
    "y1,y2 = sample_function2(3,4)\n",
    "print(y1)\n",
    "print(y2)"
   ]
  },
  {
   "cell_type": "markdown",
   "metadata": {},
   "source": [
    "## Example: \n",
    "Define a function that finds the hypoteneuse of a right triangle given the other two lengths. Test it for side lengths $x=3$ and $y=4$."
   ]
  },
  {
   "cell_type": "code",
   "execution_count": null,
   "metadata": {},
   "outputs": [],
   "source": [
    "def hyp(s1,s2):\n",
    "    return (s1**2+s2**2)**0.5\n",
    "\n",
    "s1 = 8\n",
    "s2 = 6\n",
    "print('Hypotenuse: {0}'.format(hyp(s1,s2)))"
   ]
  },
  {
   "cell_type": "markdown",
   "metadata": {},
   "source": [
    "<br><br><br><br><br><br><br><br><br><br><br><br>\n",
    "### Solution:"
   ]
  },
  {
   "cell_type": "code",
   "execution_count": null,
   "metadata": {},
   "outputs": [],
   "source": [
    "def hypot(x,y):\n",
    "    \"\"\"Determines the hypotenuse of a right triangle with the given sides.\n",
    "    Use in the following format: h = hypot(x,y)\"\"\"\n",
    "    return (x**2+y**2)**0.5\n",
    "\n",
    "h = hypot(3,4)\n",
    "print(h)\n",
    "\n",
    "print(float.__doc__)"
   ]
  },
  {
   "cell_type": "markdown",
   "metadata": {},
   "source": [
    "What does that last line do? We'll get to that in just a moment.\n",
    "<br><br><br><br><br><br><br><br><br><br><br><br><br><br>\n",
    "\n",
    "## Basic rules for using functions:\n",
    "\n",
    "* A function must be defined before it is used.\n",
    "\n",
    "    + Option 1: It is common practice to define all of your functions at the top of a .py file.\n",
    "    \n",
    "    + Option 2: If your user-defined function (e.g. `myfunction`) will be used by many unrelated programs, you can write all such functions inside a single file (e.g. `thuecksfns.py`) and then use `from thuecksfns.py import myfunction` as if you were importing a function from a module.\n",
    "    \n",
    "* When executing (***calling***) a function, all of the code inside the function is executed once.\n",
    "\n",
    "* The special keyword `return` immediately terminates the function (similar to `break` in a loop).\n",
    "\n",
    "    + This can be used to assign the output of some function to an object, as in the above example.\n",
    "    \n",
    "    + If the function never executes a `return` statement, it returns `None` at the end of the code; we generally just ignore this (as in sample_function1() above).\n",
    "    \n",
    "* All variables created inside the definition of a function are ***local variables*** and exist only within that function. Once the function completes, local variables disappear.\n",
    "\n"
   ]
  },
  {
   "cell_type": "markdown",
   "metadata": {},
   "source": [
    "### Exercise:\n",
    "\n",
    "Check the following code, determine why it doesn't work, and devise a fix.\n"
   ]
  },
  {
   "cell_type": "code",
   "execution_count": 1,
   "metadata": {},
   "outputs": [
    {
     "name": "stdout",
     "output_type": "stream",
     "text": [
      "Balance after year 1: $100.00\n",
      "Balance after year 2: $100.00\n",
      "Balance after year 3: $100.00\n",
      "Balance after year 4: $100.00\n"
     ]
    }
   ],
   "source": [
    "balance = 100\n",
    "def add_interest(balance, rate):\n",
    "    balance += balance * rate / 100\n",
    "\n",
    "for year in range(4):\n",
    "    add_interest(balance,5)\n",
    "    print(\"Balance after year {0}: ${1:.2f}\".format(year+1,balance))"
   ]
  },
  {
   "cell_type": "markdown",
   "metadata": {},
   "source": [
    "<br><br><br><br><br><br><br><br><br><br><br><br>\n",
    "\n",
    "#### Pre-written solution:"
   ]
  },
  {
   "cell_type": "code",
   "execution_count": 2,
   "metadata": {},
   "outputs": [
    {
     "name": "stdout",
     "output_type": "stream",
     "text": [
      "Balance after year 1: $105.00\n",
      "Balance after year 2: $110.25\n",
      "Balance after year 3: $115.76\n",
      "Balance after year 4: $121.55\n"
     ]
    }
   ],
   "source": [
    "balance = 100\n",
    "def add_interest(bal, rate):\n",
    "    return bal * rate / 100\n",
    "\n",
    "for year in range(4):\n",
    "    balance += add_interest(balance,5)\n",
    "    print(\"Balance after year {0}: ${1:.2f}\".format(year+1,balance))"
   ]
  },
  {
   "cell_type": "markdown",
   "metadata": {},
   "source": [
    "<br><br><br><br><br><br><br><br><br><br><br><br><br><br>\n",
    "\n",
    "## Docstrings are special strings that summarize the purpose of a function.\n",
    "\n",
    "* The docstring is defined on the first line below the definition (wrapped in triple quotes).\n",
    "\n",
    "* It is then accessible with the `__doc__` method.\n",
    "\n",
    "* For anything beyond the simplest functions, always include a docstring! (You'll thank yourself when you come back to your code weeks after writing it.)\n",
    "\n",
    "### Previous example:"
   ]
  },
  {
   "cell_type": "code",
   "execution_count": null,
   "metadata": {},
   "outputs": [],
   "source": [
    "def hypot(x,y):\n",
    "    \"\"\"Determines the hypotenuse of a right triangle with the given sides.\"\"\"\n",
    "    return (x**2+y**2)**0.5\n",
    "\n",
    "h = hypot(3,4)\n",
    "print(h)\n",
    "\n",
    "print(hypot.__doc__)"
   ]
  },
  {
   "cell_type": "markdown",
   "metadata": {},
   "source": [
    "<br><br><br><br><br><br><br><br><br><br><br><br><br><br><br><br>\n",
    "## Exercise 2.11: Binomial coefficients\n",
    "The binomial coefficient ${n\\choose k}$ is an integer equal to\n",
    "$$ {n\\choose k} = {n!\\over k!(n-k)!}\n",
    "  = {n\\times(n-1)\\times(n-2)\\times\\ldots\\times(n-k+1)\\over\n",
    "     1\\times2\\times\\ldots\\times k}\n",
    "$$\n",
    "when $k\\ge1$, or ${n\\choose0}=1$ when $k=0$.\n",
    "\n",
    "a. Using this form for the binomial coefficient, write a user-defined\n",
    "  function `binomial(n,k)` that calculates the binomial coefficient\n",
    "  for given $n$ and $k$.  Make sure your function returns the answer in the\n",
    "  form of an integer (not a float) and gives the correct value of 1 for the\n",
    "  case where $k=0$. *Hint: The last expression above has a numerator and denominator that each have k terms.*\n",
    "  \n",
    "b. Using your function write a program to print out the first 20 lines\n",
    "  of ``Pascal's triangle.''  The $n$th line of Pascal's triangle contains\n",
    "  $n+1$ numbers, which are the coefficients ${n\\choose 0}$, ${n\\choose1}$,\n",
    "  and so on up to ${n\\choose n}$.  Thus the first few lines are\n",
    "\n",
    "1 1\n",
    "\n",
    "1 2 1\n",
    "\n",
    "1 3 3 1\n",
    "\n",
    "1 4 6 4 1\n",
    "\n",
    "***Hint: You can replace the automatic 'end-of-line' at the end of a print statement and replace it with a space using a command like so:***\n",
    "```python\n",
    "print('This is an',end=' ')\n",
    "print('incomplete sentence that is now complete.')\n",
    "```\n",
    "\n",
    "c. The probability that an unbiased coin, tossed $n$ times, will come up\n",
    "  heads $k$ times is ${n\\choose k}/2^n$.  Write a program to calculate\n",
    "  (a) the total probability that a coin tossed 100 times comes up heads\n",
    "  exactly 60 times, and (b) the probability that it comes up heads 60 or\n",
    "  more times.\n"
   ]
  },
  {
   "cell_type": "code",
   "execution_count": 10,
   "metadata": {},
   "outputs": [
    {
     "name": "stdout",
     "output_type": "stream",
     "text": [
      "1 \n",
      "1 1 \n",
      "1 2 1 \n",
      "1 3 3 1 \n",
      "1 4 6 4 1 \n",
      "1 5 10 10 5 1 \n",
      "1 6 15 20 15 6 1 \n",
      "1 7 21 35 35 21 7 1 \n",
      "1 8 28 56 70 56 28 8 1 \n",
      "1 9 36 84 126 126 84 36 9 1 \n",
      "1 10 45 120 210 252 210 120 45 10 1 \n",
      "1 11 55 165 330 462 462 330 165 55 11 1 \n",
      "1 12 66 220 495 792 924 792 495 220 66 12 1 \n",
      "1 13 78 286 715 1287 1716 1716 1287 715 286 78 13 1 \n",
      "1 14 91 364 1001 2002 3003 3432 3003 2002 1001 364 91 14 1 \n",
      "1 15 105 455 1365 3003 5005 6435 6435 5005 3003 1365 455 105 15 1 \n",
      "1 16 120 560 1820 4368 8008 11440 12870 11440 8008 4368 1820 560 120 16 1 \n",
      "1 17 136 680 2380 6188 12376 19448 24310 24310 19448 12376 6188 2380 680 136 17 1 \n",
      "1 18 153 816 3060 8568 18564 31824 43758 48620 43758 31824 18564 8568 3060 816 153 18 1 \n",
      "1 19 171 969 3876 11628 27132 50388 75582 92378 92378 75582 50388 27132 11628 3876 969 171 19 1 \n"
     ]
    }
   ],
   "source": [
    "def binomial(n,k):\n",
    "    num = 1\n",
    "    den = 1\n",
    "    for m in range(k):\n",
    "        num *= n-m\n",
    "        den *= m+1\n",
    "    return num//den\n",
    "\n",
    "for n in range(20):\n",
    "    for k in range(n+1):\n",
    "        print(binomial(n,k), end=' ')\n",
    "    print() # Start new line\n",
    "    "
   ]
  },
  {
   "cell_type": "markdown",
   "metadata": {},
   "source": [
    "<br><br><br><br><br><br><br><br><br><br>\n",
    "Solution:"
   ]
  },
  {
   "cell_type": "code",
   "execution_count": null,
   "metadata": {},
   "outputs": [],
   "source": [
    "def binomial(n,k):\n",
    "    p1 = 1\n",
    "    p2 = 1\n",
    "    for m in range(k):\n",
    "        p1 *= n - m\n",
    "        p2 *= m + 1\n",
    "    return p1//p2\n",
    "\n",
    "for n in range(20):\n",
    "    for k in range(n+1):\n",
    "        print(binomial(n,k),end=' ') #The \" end=' ' \" command prevents a new line at the end of the print statement.\n",
    "    print() # Start a new line"
   ]
  },
  {
   "cell_type": "code",
   "execution_count": 12,
   "metadata": {},
   "outputs": [
    {
     "data": {
      "text/plain": [
       "-2.4492935982947064e-16"
      ]
     },
     "execution_count": 12,
     "metadata": {},
     "output_type": "execute_result"
    }
   ],
   "source": [
    "import numpy as np\n",
    "np.sin(2*np.pi)"
   ]
  },
  {
   "cell_type": "markdown",
   "metadata": {},
   "source": [
    "<br><br><br><br><br><br><br><br><br><br><br><br><br><br><br><br>\n",
    "\n",
    "## The *arguments* of a function can be treated in multiple ways.\n",
    "\n",
    "**Functions with arguments can be treated in a *positional* manner:**\n",
    "\n",
    "```python\n",
    "def f(a,b,c):\n",
    "   print(a,b,c)\n",
    "\n",
    "# Arguments passed to the function are assigned in order\n",
    "# to the arguments in the function definition.\n",
    "f(1,2,3)\n",
    "f(2,1,3)\n",
    "```\n",
    "\n",
    "**Functions with arguments can be treated in a *keyword* manner:**\n",
    "\n",
    "```python\n",
    "def f(a,b,c):\n",
    "   print(a,b,c)\n",
    "\n",
    "# Being explicit means order does not matter.\n",
    "f(a=1,b=2,c=3)\n",
    "f(c=3,a=1,b=2)\n",
    "```\n",
    "\n",
    "**Functions can be defined with *default arguments*:**\n",
    "\n",
    "```python\n",
    "def f(a=1,b=2,c=3):\n",
    "    print(a,b,c)\n",
    "\n",
    "f(b=2,c=3)      # `a` reverts to its default value\n",
    "f(2,3,4)        # positional\n",
    "f(a=3,c=4,b=3)  # keyword\n",
    "f(5,b=2,c=4)    # an OK mix (positional then keyword)\n",
    "f(b=2,5,6)      # ERROR - can't do keyword then positional\n",
    "```"
   ]
  },
  {
   "cell_type": "code",
   "execution_count": 19,
   "metadata": {},
   "outputs": [
    {
     "name": "stdout",
     "output_type": "stream",
     "text": [
      "1 2 end no ok bye\n"
     ]
    }
   ],
   "source": [
    "def f(a,b,c='end', d='no', e='yes', f='bye'):\n",
    "   print(a,b,c,d,e,f)\n",
    "\n",
    "f(1,2, e='ok')\n",
    "\n",
    "\n"
   ]
  },
  {
   "cell_type": "markdown",
   "metadata": {},
   "source": [
    "<br><br><br><br><br><br><br><br><br><br><br><br><br><br>\n",
    "## Example: Exercise 2.13 - Recursion\n",
    "A useful feature of user-defined functions is *recursion*, the\n",
    "ability of a function to call itself.  For example, consider the following\n",
    "definition of the factorial $n!$ of a positive integer $n$:\n",
    "$$n! = \\biggl\\lbrace\\begin{array}{ll}\n",
    "  1 & \\qquad\\mbox{if $n=1$,} \\\\\n",
    "  n\\times(n-1)! & \\qquad\\mbox{if $n>1$.}\n",
    "\\end{array}$$\n",
    "This constitutes a complete definition of the factorial which allows us to\n",
    "calculate the value of $n!$ for any positive integer.  We can employ this\n",
    "definition directly to create a Python function for factorials, like this:\n",
    "```python\n",
    "def factorial(n):\n",
    "    if n==1:\n",
    "        return 1\n",
    "    else:\n",
    "        return n*factorial(n-1)\n",
    "```\n",
    "<br><br>\n",
    "Note how, if $n$ is not equal to 1, the function calls itself to calculate\n",
    "the factorial of $n-1$.  This is recursion.  If we now say\n",
    "`print(factorial(5))` the computer will correctly print the\n",
    "answer 120.\n",
    "\n",
    "* **a)** We encountered the Catalan numbers $C_n$ previously in Exercise 2.7\n",
    "  on page 46.  With just a little rearrangement, the definition given there\n",
    "  can be rewritten in the form\n",
    "$$C_n = \\left\\lbrace\\begin{array}{ll}\n",
    "  \\rule[-9pt]{0pt}{10pt}1 & \\qquad\\mbox{if $n=0$,} \\\\\n",
    "  \\dfrac{4n-2}{n+1}\\,C_{n-1} & \\qquad\\mbox{if $n>0$.}\n",
    "\\end{array}\\right.$$\n",
    "Write a Python function, using recursion, that calculates $C_n$.  Use your\n",
    "function to calculate and print $C_{100}$.\n",
    "\n"
   ]
  },
  {
   "cell_type": "code",
   "execution_count": 23,
   "metadata": {},
   "outputs": [
    {
     "name": "stdout",
     "output_type": "stream",
     "text": [
      "C(100)=error\n"
     ]
    }
   ],
   "source": [
    "def C(n):\n",
    "    if n==0:\n",
    "        return 1\n",
    "    elif n<0:\n",
    "        return('error')\n",
    "    else:\n",
    "        return ((4*n-2)/(n+1)*C(n-1))\n",
    "\n",
    "print(\"C(100)={0}\".format(C(-3)))"
   ]
  },
  {
   "cell_type": "markdown",
   "metadata": {},
   "source": [
    "<br><br><br><br><br>"
   ]
  },
  {
   "cell_type": "code",
   "execution_count": null,
   "metadata": {},
   "outputs": [],
   "source": [
    "#Part (a)\n",
    "# Functions can be defined recursively!!!\n",
    "\n",
    "def C(n):\n",
    "    if n==0:\n",
    "        return 1\n",
    "    else:\n",
    "        return ((4*n-2)/(n+1)*C(n-1))\n",
    "\n",
    "print(\"C(100)=\",C(100))"
   ]
  },
  {
   "cell_type": "code",
   "execution_count": null,
   "metadata": {},
   "outputs": [],
   "source": [
    "#Part (a)\n",
    "# Solution without recursive function\n",
    "def C2(n):\n",
    "    c = 1\n",
    "    for i1 in range(1,n+1):\n",
    "        c *= (4*i1-2)/(i1+1)\n",
    "    return(c)\n",
    "    \n",
    "print(\"C2(100)=\",C2(100))"
   ]
  },
  {
   "cell_type": "markdown",
   "metadata": {},
   "source": [
    "<br><br><br><br>\n",
    "* **b)** Euclid showed that the greatest common divisor $g(m,n)$ of two\n",
    "  nonnegative integers $m$ and $n$ satisfies\n",
    "$$g(m,n) = \\biggl\\lbrace\\begin{array}{ll}\n",
    "  m & \\qquad\\mbox{if $n=0$,} \\\\\n",
    "  g(n,m\\>\\textrm{mod}\\>n) & \\qquad\\mbox{if $n>0$.}\n",
    "\\end{array}$$\n",
    "Write a Python function `g(m,n)` that employs recursion to calculate\n",
    "the greatest common divisor of $m$ and $n$ using this formula.  Use your\n",
    "function to calculate and print the greatest common divisor of 108 and 192.\n",
    "\n",
    "\n",
    "\n"
   ]
  },
  {
   "cell_type": "code",
   "execution_count": null,
   "metadata": {},
   "outputs": [],
   "source": []
  },
  {
   "cell_type": "markdown",
   "metadata": {},
   "source": [
    "<br><br><br><br><br>"
   ]
  },
  {
   "cell_type": "code",
   "execution_count": null,
   "metadata": {},
   "outputs": [],
   "source": [
    "#Part (b)\n",
    "# Recursive function solution\n",
    "\n",
    "def gcd(m,n):\n",
    "    if n==0:\n",
    "        return m\n",
    "    else:\n",
    "        return gcd(n,m%n)\n",
    "\n",
    "n,m = 108,192\n",
    "print(\"The greatest common devisor of\",n,\"and\",m,\"is\",gcd(108,192))"
   ]
  },
  {
   "cell_type": "code",
   "execution_count": null,
   "metadata": {},
   "outputs": [],
   "source": [
    "#Part (b)\n",
    "# Non-recursive solution\n",
    "\n",
    "a,b = 108,192 \n",
    "while b:\n",
    "    # b is True as long as it is > 0\n",
    "    print('a =',a,'\\t b =',b,'\\t a%b =',a%b)\n",
    "    a,b = b, a%b\n",
    "print('greatest common divisor =',a)"
   ]
  },
  {
   "cell_type": "markdown",
   "metadata": {},
   "source": [
    "Comparing the calculation of the Catalan numbers in part (a) above with\n",
    "that of Exercise 2.7, we see that it's possible to do the calculation two\n",
    "ways, either directly or using recursion.  In most cases, if a quantity can\n",
    "be calculated *without* recursion, then it will be faster to do so,\n",
    "and we normally recommend taking this route if possible.  There are some\n",
    "calculations, however, that are essentially impossible (or at least much\n",
    "more difficult) without recursion.  We will see some examples later in this\n",
    "book."
   ]
  },
  {
   "cell_type": "markdown",
   "metadata": {},
   "source": [
    "<br><br><br><br><br><br><br><br><br><br><br><br><br><br>\n",
    "\n",
    "## Exercise:\n",
    "\n",
    "Tetration may be thought of as the next operator after exponentiation: where $x\\cdot n$ can be written as the sum $x+x+...+x$ with $n$ terms, and $x^{n}$ is the multiplication of $n$ factors: $x\\cdot x\\cdot x \\cdot \\cdots \\cdot x$, the expression written $^{n}x$ is equal to the repeated exponentiation involving $n$ occurrences of $x$:\n",
    "\n",
    "$$ \\Large ^{n}x = x^{x^{x^{\\cdots^{x}}}}$$\n",
    "\n",
    "The exponentiation \"tower\" is evaluated from top to bottom.\n",
    "\n",
    "Write a recursive function (a function that calls itself) to calculate $^{n}x$ and test it for small, positive real values of $x$ and non-negative integers $n$. (Tetration makes *very* large numbers!)\n",
    "\n",
    "How many digits are there in $^{3}5$? In $^{5}2$?\n",
    "\n",
    "<br><br><br><br><br><br><br><br><br><br><br><br><br><br><br><br>\n",
    "\n",
    "### Pre-written solution"
   ]
  },
  {
   "cell_type": "code",
   "execution_count": 2,
   "metadata": {},
   "outputs": [
    {
     "name": "stdout",
     "output_type": "stream",
     "text": [
      "n = 5, x = 2 --> 19729 characters\n"
     ]
    }
   ],
   "source": [
    "def tetration(n,base,top):\n",
    "    \"\"\"\n",
    "    Sets top = base**top iteratively n times,\n",
    "    then returns the final value of top.\n",
    "    \n",
    "    Thus tetration(n,x,x) computers x**x**... with n terms.\n",
    "    \"\"\"\n",
    "    # If we've exhausted the tower, return the value    \n",
    "    if n == 1:\n",
    "        return top\n",
    "    \n",
    "    # Otherwise, compute the next exponential\n",
    "    top = base ** top\n",
    "    return tetration(n-1,base,top)\n",
    "    \n",
    "\n",
    "N = 5\n",
    "x = 2\n",
    "out = tetration(N,x,x)\n",
    "print(\"n = {0}, x = {1} --> {2} characters\".format(N,x,len(str(out))))\n",
    "    \n",
    "    \n",
    "    \n",
    "    \n",
    "    "
   ]
  },
  {
   "cell_type": "markdown",
   "metadata": {},
   "source": [
    "<br><br><br><br><br><br><br><br><br><br><br><br>\n",
    "## Programming Conventions\n",
    "\n",
    "Your top priority when writing code is to get the code to work accurately. That said, some code will need to be used by you over the course of several years, or you may be writing code that someone else must be able to understand. There are several conventions that you should follow to keep your code easily readable by you and others:\n",
    "\n",
    "* Be judicious in your use of comments.\n",
    "\n",
    "* Use meaningful variable names.\n",
    "\n",
    "* Use the right types of variables.\n",
    "\n",
    "* Import functions at the top of your program.\n",
    "\n",
    "* Give your constants names. Don't 'hardwire' numbers in your code.\n",
    "\n",
    "* Employ user-defined functions, where appropriate.\n",
    "\n",
    "* Print out partial results and updates throughout your program so that you and others know that long-running code isn't frozen or broken.\n",
    "\n",
    "* Use a logical structure for your programs.\n",
    "\n",
    "* Keep it simple! Don't make your programs unnecessarily complicated.\n",
    "\n",
    "  + If you are writing code where speed is a high priority, sometimes you must value efficiency over readability. In all other cases, readability should be a top priority."
   ]
  },
  {
   "cell_type": "markdown",
   "metadata": {},
   "source": [
    "<br><br><br><br><br><br><br><br><br><br><br><br><br><br><br><br>\n",
    "## Use pseudocode for planning code structure. This will be your 'narrative' on homework assignments.\n",
    "* Video from Khan Academy: https://www.khanacademy.org/computing/computer-programming/programming/good-practices/pt/planning-with-pseudo-code\n",
    "* Introduction: https://towardsdatascience.com/pseudocode-101-an-introduction-to-writing-good-pseudocode-1331cb855be7\n",
    "* Examples: https://www.unf.edu/~broggio/cop2221/2221pseu.htm\n",
    "* Reference: https://cs50.harvard.edu/ap/2020/assets/pdfs/pseudocode.pdf\n",
    "\n"
   ]
  },
  {
   "cell_type": "code",
   "execution_count": null,
   "metadata": {},
   "outputs": [],
   "source": []
  }
 ],
 "metadata": {
  "anaconda-cloud": {},
  "kernelspec": {
   "display_name": "Python 3",
   "language": "python",
   "name": "python3"
  },
  "language_info": {
   "codemirror_mode": {
    "name": "ipython",
    "version": 3
   },
   "file_extension": ".py",
   "mimetype": "text/x-python",
   "name": "python",
   "nbconvert_exporter": "python",
   "pygments_lexer": "ipython3",
   "version": "3.8.5"
  }
 },
 "nbformat": 4,
 "nbformat_minor": 4
}
