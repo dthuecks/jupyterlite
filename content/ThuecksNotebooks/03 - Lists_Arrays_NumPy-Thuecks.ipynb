{
 "cells": [
  {
   "cell_type": "markdown",
   "metadata": {},
   "source": [
    "# 3 - Lists, Arrays, and NumPy<br>*(Ch. 2.4)*\n",
    "\n",
    "## Lists\n",
    "\n",
    "### Lists are the basic *container* in Python.\n",
    "\n",
    "* A list is framed with brackets, and items are separated by commas.\n",
    "\n",
    "* The items in a list don't need to be of the same type (though practically speaking they often are).\n",
    "\n",
    "Examples:\n",
    "\n",
    "```python\n",
    "x1 = [1,2,3]\n",
    "x2 = ['a string',2,3.5,['a list in a list','how silly']]\n",
    "```\n",
    "\n",
    "If you wish to access a single element from a list (for instance, in a calculation), they can be accessed using `r[0]`, `r[1]`, ... , `r[n-1]` if there are *n* elements in list `r`.\n",
    "\n",
    "Try the following:\n",
    "```python\n",
    "from math import sqrt\n",
    "r = [1.0, 1.5, -2.2]\n",
    "length = sqrt( r[0]**2 + r[1]**2 + r[2]**2)\n",
    "print(length)\n",
    "```\n",
    "\n",
    "<br><br><br><br><br><br><br><br>\n",
    "Note: In a lot of ways, `strings` can **almost** be thought of as lists of characters in that indexing and other manipulations that we discuss for lists will also work on strings. As an example, if `x = 'This class is great!'` then `x[0]` will return `T` and `x[7]` will return `a`."
   ]
  },
  {
   "cell_type": "code",
   "execution_count": null,
   "metadata": {},
   "outputs": [],
   "source": [
    "x = 'This class is great!'\n",
    "print(x[0])"
   ]
  },
  {
   "cell_type": "markdown",
   "metadata": {},
   "source": [
    "<br><br><br><br><br><br><br><br><br><br><br><br><br><br>\n",
    "\n",
    "### Lists are *mutable*, meaning items can be reassigned after creation.\n",
    "\n",
    "Example:\n",
    "\n",
    "```python\n",
    "x = [1,2,3]\n",
    "x[0] = 5\n",
    "print(x)\n",
    "```"
   ]
  },
  {
   "cell_type": "code",
   "execution_count": null,
   "metadata": {},
   "outputs": [],
   "source": []
  },
  {
   "cell_type": "markdown",
   "metadata": {},
   "source": [
    "<br><br><br><br><br><br><br><br><br><br><br><br><br><br><br><br>\n",
    "\n",
    "### Be careful: integers are still immutable.\n",
    "\n",
    "Example:\n"
   ]
  },
  {
   "cell_type": "code",
   "execution_count": 1,
   "metadata": {},
   "outputs": [
    {
     "name": "stdout",
     "output_type": "stream",
     "text": [
      "[1, 2, 3]\n"
     ]
    }
   ],
   "source": [
    "a = 1\n",
    "x = [a,2,3]\n",
    "a = 3\n",
    "print(x)"
   ]
  },
  {
   "cell_type": "markdown",
   "metadata": {},
   "source": [
    "<br><br><br><br><br><br><br><br><br><br><br><br><br><br>\n",
    "\n",
    "### Operations can be performed on entire lists at once\n",
    "A few example functions that can be used on lists include:\n",
    "\n",
    "* sum(list)    Calculates the sum of elements in the list\n",
    "\n",
    "* max(list)    Finds the maximum value contained in the list\n",
    "\n",
    "* min(list)    Finds the minimum value contained in the list\n",
    "\n",
    "* len(list)    Determines the number of elements in the list\n",
    "\n",
    "Example:\n",
    "```python\n",
    "r = [ 1.0, 1.5, -2.2 ]\n",
    "mean = sum(r)/len(r)\n",
    "print(mean)\n",
    "```\n",
    "<br><br><br><br>\n",
    "### The `map` function allows mathematical operations to be conducted on each individual list element\n",
    "\n",
    "For example, the following code finds the square root of each list element:\n",
    "```python\n",
    "from math import sqrt\n",
    "r = [ 1.0, 1.5, 2.2 ]\n",
    "root_r = list(map(sqrt,r))\n",
    "print(root_r)\n",
    "```"
   ]
  },
  {
   "cell_type": "code",
   "execution_count": null,
   "metadata": {},
   "outputs": [],
   "source": [
    "from math import sqrt\n",
    "r = [ 1.0, 1.5, 2.2 ]\n",
    "root_r = list(map(sqrt,r))\n",
    "print(root_r)"
   ]
  },
  {
   "cell_type": "markdown",
   "metadata": {},
   "source": [
    "<br><br><br><br><br><br><br><br><br><br><br><br><br><br>\n",
    "\n",
    "### Lists (and strings) have *methods*\n",
    "\n",
    "See official documentation for a more complete list (and for a list of methods associated with string variables). A few common examples for methods **associated with lists** include:\n",
    "\n",
    "* `append(element)    to add an element to the end of a list`\n",
    "\n",
    "* `extend(list)       to add a second list to the first`\n",
    "\n",
    "* `index(element)     Return the lowest index of the list containing *element*`\n",
    "\n",
    "* `insert(index, element)  Insert *element* at index *index*`\n",
    "\n",
    "* `sort()             to reorder the items in a list in ascending order`\n",
    "\n",
    "* `reverse()          reverses the order of the list`\n",
    "\n",
    "* `pop()              removes the last item in the list and returns that item as the result. Alternatively, pop(<i>) removes the item at index i`\n",
    "\n",
    "* `copy()             Return a copy of the list.`\n",
    "\n",
    "* `count(element)     Return the number of elements equal to *element* in the list.`\n",
    "\n",
    "For instance, try the following:\n"
   ]
  },
  {
   "cell_type": "code",
   "execution_count": null,
   "metadata": {},
   "outputs": [],
   "source": [
    "x = [1,2,3]\n",
    "print(x)\n",
    "\n",
    "x.reverse()\n",
    "print(x)\n",
    "\n",
    "x.append(4)\n",
    "print(x)\n",
    "\n",
    "y = x.pop()\n",
    "print(y,x)\n",
    "\n",
    "y = x.copy()\n",
    "print(x,y)\n",
    "\n",
    "a = \"What's going on here?\"\n",
    "a.pop()\n",
    "print(a)"
   ]
  },
  {
   "cell_type": "markdown",
   "metadata": {},
   "source": [
    "<br><br><br><br><br><br><br><br><br><br><br><br><br><br>\n",
    "## Creating and modifying a NumPy array\n",
    "\n",
    "A Numpy *array* is very similar to a list, with the following key differences:\n",
    "\n",
    "1. The elements in an array must all be of the same type. \n",
    "\n",
    "2. Arrays can have more than one dimension. (A one-dimensional array behaves like a *vector*; a two-dimensional array behaves like a *matrix*.)\n",
    "\n",
    "3. Mathematical operations on arrays are generally much faster than on lists.\n",
    "\n",
    "Try the following code, which demonstrates the basic methods for generating arrays:"
   ]
  },
  {
   "cell_type": "code",
   "execution_count": null,
   "metadata": {},
   "outputs": [],
   "source": [
    "import numpy as np\n",
    "\n",
    "# Create a 1D array of 4 zeros (floating point):\n",
    "a1 = np.zeros(4,float)\n",
    "\n",
    "# Create a 2D array of zeros with 3 rows, 4 columns:\n",
    "a2 = np.zeros([3,4],float)\n",
    "\n",
    "# As above, but with ones instead of zeros:\n",
    "a3 = np.ones([3,4],float)\n",
    "\n",
    "# Create an empty array \n",
    "#(faster, but with junk entries that you should overwrite before use)\n",
    "a6 = np.empty([5,5],float)\n",
    "\n",
    "# Create an array with a list or list of lists\n",
    "r = [[1.0,2,3],[5.5,4.4,9]]\n",
    "a5 = np.array(r,float)\n",
    "\n",
    "#print(a1)\n",
    "#print(a2)\n",
    "#print(a3)\n",
    "print(a5)\n",
    "#print(a5)\n",
    "\n",
    "a7 = np.array([[1,2.2,3+4j],[5.4,7,9]])\n",
    "\n",
    "print(a7)"
   ]
  },
  {
   "cell_type": "markdown",
   "metadata": {},
   "source": [
    "<br><br><br><br><br><br><br><br><br><br><br><br>\n",
    "\n",
    "### We can also save and load arrays directly from a .txt file.\n",
    "\n",
    "We do this with `np.savetxt()` and `np.loadtxt()`:"
   ]
  },
  {
   "cell_type": "code",
   "execution_count": null,
   "metadata": {},
   "outputs": [],
   "source": [
    "import numpy as np\n",
    "\n",
    "a = np.array([[1,2,3],[4,5,6]],float)\n",
    "np.savetxt('demo_array.txt',a)\n",
    "\n",
    "b = np.loadtxt('demo_array.txt')\n",
    "print(b)"
   ]
  },
  {
   "cell_type": "markdown",
   "metadata": {},
   "source": [
    "<br><br><br><br><br><br><br><br><br><br><br><br>\n",
    "\n",
    "### Arrays can be indexed with notation similar to lists.\n",
    "\n",
    "For a 1D array, the syntax is *identical* to lists:"
   ]
  },
  {
   "cell_type": "code",
   "execution_count": 2,
   "metadata": {},
   "outputs": [
    {
     "name": "stdout",
     "output_type": "stream",
     "text": [
      "[5.5 2.  3. ]\n"
     ]
    }
   ],
   "source": [
    "import numpy as np\n",
    "a = np.array([1,2,3],float)\n",
    "a[0] = 5.5\n",
    "print(a)"
   ]
  },
  {
   "cell_type": "markdown",
   "metadata": {},
   "source": [
    "<br><br><br><br><br><br><br><br><br><br>\n",
    "\n",
    "For an array with >1 dimension, indices are separated by commas within a bracket:"
   ]
  },
  {
   "cell_type": "code",
   "execution_count": 8,
   "metadata": {},
   "outputs": [
    {
     "name": "stdout",
     "output_type": "stream",
     "text": [
      "[[743415920       520         0         0]\n",
      " [      952         0       768     32767]]\n"
     ]
    }
   ],
   "source": [
    "a = np.empty([2,4],int)\n",
    "a[0,1] = 1\n",
    "a[1,0] = -1\n",
    "print(a)"
   ]
  },
  {
   "cell_type": "markdown",
   "metadata": {},
   "source": [
    "<br><br><br><br><br><br><br><br><br><br>\n",
    "\n",
    "Finally, you can append new rows to an array with the `np.vstack((<array>,<new row>))` command:"
   ]
  },
  {
   "cell_type": "code",
   "execution_count": 12,
   "metadata": {},
   "outputs": [
    {
     "name": "stdout",
     "output_type": "stream",
     "text": [
      "[[1. 2. 3.]\n",
      " [4. 5. 6.]\n",
      " [7. 8. 9.]]\n"
     ]
    }
   ],
   "source": [
    "a = np.array([[1,2,3],[4,5,6]],float)\n",
    "b = np.array([7,8,9],float)\n",
    "\n",
    "a = np.vstack((a,b))\n",
    "print(a)"
   ]
  },
  {
   "cell_type": "code",
   "execution_count": null,
   "metadata": {},
   "outputs": [],
   "source": []
  },
  {
   "cell_type": "markdown",
   "metadata": {},
   "source": [
    "<br><br>\n",
    "\n",
    "There are *many* commands for splitting, rotating, reshaping, and otherwise modifying the structure of arrays. We won't mess with them (though you might want to for your project!)."
   ]
  },
  {
   "cell_type": "markdown",
   "metadata": {},
   "source": [
    "<br><br><br><br><br><br><br><br><br><br>\n",
    "## Slicing strings, lists, and arrays\n",
    "Sometimes you only want to use/reassign a portion of a string, list, or array. The syntax for slicing is:\n",
    "\n",
    "* `s[i]` returns the character at the specified index.\n",
    "\n",
    "    + The first character is at index 0, and the last is at index N-1 (for N characters)\n",
    "    \n",
    "    + You can count backwards with a negative index, so `s[-1]` returns the final character, `s[-2]` the second-to-last character, etc.\n",
    "    \n",
    "* `s[i:j]` returns a range of characters starting at i and stopping before j.\n",
    "\n",
    "    + This guarantees that the length of what is returned is j-i (e.g. `s[3:5]` returns 2 characters).\n",
    "    \n",
    "    + Omiting i defaults to 0 (e.g. `s[:2]` is the same as `s[0:2]`).\n",
    "    \n",
    "    + Omiting j defaults to \"end of string\" (e.g. `s[1:]` is the entire string except for the first character).\n",
    "    \n",
    "    + Be aware that you can't directly slice across the 0 index (e.g. `s[-1:1]` returns an empty string).\n",
    "    \n",
    "* `s[i:j:k]` is the same as the above, but with a *stride* k such that every kth character is returned. \n",
    "\n",
    "    + If k is negative, the stride is in reverse order (so `s[::-1]` reverses a string).\n",
    "    \n",
    "\n",
    "* `s[i:j,m:n]` returns a range of elements from a two-dimensional array `s` starting at i and stopping before j in the 1st dimension and starting from m and ending before n in the second dimension.\n",
    "\n",
    "    + If the array has more than two dimensions, just tack on additional arguments after a comma. (e.g. `s[i:j, m:n, p:q, r:s]` for a four-dimensional array).\n",
    "\n",
    "With all of this in mind, try the following example.\n",
    "\n",
    "<br><br><br><br><br><br><br><br>\n",
    "\n",
    "### Example\n",
    "\n",
    "Write a program with the first line:\n",
    "\n",
    "```python\n",
    "s = \"I'm a little teapot\"\n",
    "```\n",
    "\n",
    "Then use object *s* to generate the following strings:\n",
    "\n",
    "+ s1 = \"I'm a little\"\n",
    "\n",
    "+ s2 = \"potI'm a\"\n",
    "\n",
    "+ s3 = \"teapot\", in reverse order\n",
    "\n"
   ]
  },
  {
   "cell_type": "code",
   "execution_count": 23,
   "metadata": {},
   "outputs": [
    {
     "name": "stdout",
     "output_type": "stream",
     "text": [
      "potI'm a\n"
     ]
    }
   ],
   "source": [
    "s = \"I'm a little teapot\"\n",
    "s2 = s[-3:] + s[0:5]\n",
    "print(s2)"
   ]
  },
  {
   "cell_type": "code",
   "execution_count": null,
   "metadata": {},
   "outputs": [],
   "source": []
  },
  {
   "cell_type": "code",
   "execution_count": null,
   "metadata": {},
   "outputs": [],
   "source": []
  },
  {
   "cell_type": "code",
   "execution_count": null,
   "metadata": {},
   "outputs": [],
   "source": []
  },
  {
   "cell_type": "code",
   "execution_count": null,
   "metadata": {},
   "outputs": [],
   "source": []
  },
  {
   "cell_type": "code",
   "execution_count": null,
   "metadata": {},
   "outputs": [],
   "source": []
  },
  {
   "cell_type": "code",
   "execution_count": null,
   "metadata": {},
   "outputs": [],
   "source": []
  },
  {
   "cell_type": "code",
   "execution_count": null,
   "metadata": {},
   "outputs": [],
   "source": [
    "s = \"I'm a little teapot\"\n",
    "print(s[:12])\n",
    "print(s[-3:]+s[0:5])\n",
    "print(s[:-7:-1])"
   ]
  },
  {
   "cell_type": "markdown",
   "metadata": {},
   "source": [
    "<br><br><br><br><br><br><br><br><br><br><br><br><br>"
   ]
  },
  {
   "cell_type": "markdown",
   "metadata": {},
   "source": [
    "<br><br><br><br><br><br><br><br><br><br><br><br><br><br>\n",
    "Try slicing array `r` as follows:\n"
   ]
  },
  {
   "cell_type": "code",
   "execution_count": 24,
   "metadata": {},
   "outputs": [
    {
     "name": "stdout",
     "output_type": "stream",
     "text": [
      "[[ 1  2  3  4  5]\n",
      " [ 6  7  8  9 10]\n",
      " [11 12 13 14 15]]\n",
      "\n",
      "[7 8]\n",
      "\n",
      "[ 6  7  8  9 10]\n",
      "\n",
      "[ 4  9 14]\n",
      "\n",
      "[[ 8  9 10]\n",
      " [13 14 15]]\n"
     ]
    }
   ],
   "source": [
    "import numpy as np\n",
    "r = np.array([[1,2,3,4,5],[6,7,8,9,10],[11,12,13,14,15]],int)\n",
    "print(r)\n",
    "print()\n",
    "print(r[1,1:3])\n",
    "print()\n",
    "print(r[1,:])\n",
    "print()\n",
    "print(r[:,3])\n",
    "print()\n",
    "print(r[1:3,2:5])"
   ]
  },
  {
   "cell_type": "markdown",
   "metadata": {},
   "source": [
    "<br><br><br><br><br><br><br><br><br><br><br><br><br><br>\n",
    "\n",
    "## Arithmetic with Arrays\n",
    "\n",
    "### Standard mathematical operators are applied *element-wise*. Try the following:"
   ]
  },
  {
   "cell_type": "code",
   "execution_count": 27,
   "metadata": {},
   "outputs": [
    {
     "name": "stdout",
     "output_type": "stream",
     "text": [
      "[5. 7. 9.]\n",
      "[3. 3. 3.]\n",
      "[2. 4. 6.]\n",
      "[0.25 0.5  0.75]\n"
     ]
    }
   ],
   "source": [
    "a1 = np.array([1,2,3],float)\n",
    "a2 = np.array([4,5,6],float)\n",
    "\n",
    "print(a1 + a2)\n",
    "print(a2 - a1)\n",
    "print(a1*2)\n",
    "print(a1/4)\n"
   ]
  },
  {
   "cell_type": "markdown",
   "metadata": {},
   "source": [
    "<br><br><br><br><br><br><br><br><br><br><br><br><br><br><br>\n",
    "\n",
    "## Numpy can perform vector algebra\n",
    "\n",
    "### Consider the dot product between two vectors:\n",
    "\n",
    "$$ \\Large \\vec{u} = u_{x}\\hat{x} + u_{y}\\hat{y} + u_{z}\\hat{z}$$\n",
    "$$ \\Large \\vec{v} = v_{x}\\hat{x} + v_{y}\\hat{y} + v_{z}\\hat{z}$$\n",
    "\n",
    "$$ \\Large \\vec{u} \\cdot \\vec{v} = uvcos(\\theta) = u_{x}v_{x} + u_{y}v_{y} + u_{z}v_{z}$$\n",
    "\n",
    "In words, the dot product is a scalar with magnitude given by the product of the *parallel components* of the vectors. In physics, this is often what is meant by default when referring to the product of two vectors. \n",
    "\n",
    "In Numpy, we use the `np.dot(a,b)` command:"
   ]
  },
  {
   "cell_type": "code",
   "execution_count": 2,
   "metadata": {},
   "outputs": [
    {
     "name": "stdout",
     "output_type": "stream",
     "text": [
      "32.0\n"
     ]
    }
   ],
   "source": [
    "import numpy as np\n",
    "a = np.array([1,2,3],float)\n",
    "b = np.array([4,5,6],float)\n",
    "print(np.dot(a,b))"
   ]
  },
  {
   "cell_type": "markdown",
   "metadata": {},
   "source": [
    "Confirm the output of the above code by calculating $\\vec{u}\\cdot\\vec{v}$ by hand.\n",
    "<br><br><br><br><br><br><br><br><br><br><br><br>\n",
    "\n",
    "### The cross product of two vectors is handled in a similar way:\n",
    "\n",
    "$$ \\Large \\vec{u} = u_{x}\\hat{x} + u_{y}\\hat{y} + u_{z}\\hat{z}$$\n",
    "$$ \\Large \\vec{v} = v_{x}\\hat{x} + v_{y}\\hat{y} + v_{z}\\hat{z}$$\n",
    "\n",
    "$$ \\Large \\vec{u} \\times \\vec{v} = uvsin(\\theta)\\hat{n} = \\begin{vmatrix} \\hat{x} & \\hat{y} & \\hat{z} \\\\ u_x & u_y & u_z \\\\ v_x & v_y & v_z \\end{vmatrix} = (u_y v_z-u_z v_y)\\hat{x} + (u_z v_x - u_x v_z)\\hat{y} + (u_x v_y-u_y v_x)\\hat{z}$$\n",
    "\n",
    "where $\\hat{n}$ is a direction perpendicular to both $\\vec{u}$ and $\\vec{v}$ in a direction given by the right hand rule. In words, the cross product is a vector perpendicular to both $u$ and $v$ that measures the extent to which $u$ and $v$ are perpendicular. A simple example from physics is *torque*: a door swings most easily when you push perpendicular to the door.\n",
    "\n",
    "In Numpy, we use the `np.cross(a,b)` command:\n"
   ]
  },
  {
   "cell_type": "code",
   "execution_count": 3,
   "metadata": {},
   "outputs": [
    {
     "name": "stdout",
     "output_type": "stream",
     "text": [
      "[-3.  6. -3.]\n"
     ]
    }
   ],
   "source": [
    "a = np.array([1,2,3],float)\n",
    "b = np.array([4,5,6],float)\n",
    "print(np.cross(a,b))"
   ]
  },
  {
   "cell_type": "markdown",
   "metadata": {},
   "source": [
    "<br><br><br><br><br><br><br><br><br><br><br><br><br><br><br>\n",
    "\n",
    "## Numpy can perform matrix algebra\n",
    "\n",
    "(This is the realm of *linear algebra*)\n",
    "\n",
    "We won't worry about this too much, as there is no expectation that you have studied linear algebra. However, let's describe a few simple examples for those of you who have or will study these topics.\n",
    "\n",
    "### Matrices can be multiplied with `np.dot(a,b)`:\n",
    "\n",
    "$$ \\Large         \\begin{pmatrix}1 & 2 \\\\0 & 1 \\end{pmatrix} \\begin{pmatrix}1 & 2 \\\\3 & 4 \\end{pmatrix} = \\begin{pmatrix}7 & 10 \\\\3 & 4 \\end{pmatrix}$$\n"
   ]
  },
  {
   "cell_type": "code",
   "execution_count": 6,
   "metadata": {},
   "outputs": [
    {
     "name": "stdout",
     "output_type": "stream",
     "text": [
      "[[ 7. 10.]\n",
      " [ 3.  4.]]\n"
     ]
    }
   ],
   "source": [
    "a = np.array([[1,2],[0,1]],float)\n",
    "b = np.array([[1,2],[3,4]],float)\n",
    "print(np.dot(a,b))\n"
   ]
  },
  {
   "cell_type": "markdown",
   "metadata": {},
   "source": [
    "<br><br><br><br><br><br><br><br>\n",
    "\n",
    "### The determinant of a matrix can be computed with `np.linalg.det(a)`:"
   ]
  },
  {
   "cell_type": "code",
   "execution_count": 8,
   "metadata": {},
   "outputs": [
    {
     "name": "stdout",
     "output_type": "stream",
     "text": [
      "[[1. 2.]\n",
      " [3. 4.]]\n",
      "-2.0000000000000004\n",
      "[[ 5.    8.   10.   16.  ]\n",
      " [-6.   -4.    3.   10.  ]\n",
      " [ 0.25  4.2   3.9   0.  ]\n",
      " [ 4.    5.    6.    7.5 ]]\n",
      "630.4999999999997\n"
     ]
    }
   ],
   "source": [
    "a1 = np.array([[1,2],[3,4]],float)\n",
    "# This is just 1*4-2*3 = -2\n",
    "print(a1)\n",
    "print(np.linalg.det(a1))\n",
    "\n",
    "a2 = np.array([[5,8,10,16],\n",
    "               [-6,-4,3,10],\n",
    "              [0.25,4.2,3.9,0],\n",
    "              [4,5,6,7.5]])\n",
    "# This would take a long time to compute by hand!\n",
    "print(a2)\n",
    "print(np.linalg.det(a2))"
   ]
  },
  {
   "cell_type": "markdown",
   "metadata": {},
   "source": [
    "<br><br><br><br><br><br><br><br>\n",
    "\n",
    "### The eigenvalues $ \\lambda$ and eigenvectors $\\vec{v}$ of a matrix $\\bf{A}$ satisfy the equation $ \\bf{A}\\cdot \\vec{v}=\\lambda \\vec{v}$ and can be computed with `np.linalg.eig(a)`:"
   ]
  },
  {
   "cell_type": "code",
   "execution_count": 9,
   "metadata": {},
   "outputs": [
    {
     "name": "stdout",
     "output_type": "stream",
     "text": [
      "[-5.89516118 -1.41892129  5.18953585 14.52454663]\n",
      "\n",
      " [[-0.12177349  0.37112427 -0.74166923  0.86325766]\n",
      " [ 0.90560355 -0.72963281  0.19493493 -0.00430187]\n",
      " [-0.38519954  0.55869914  0.49111421  0.01861223]\n",
      " [-0.1291307  -0.13325915 -0.41319965  0.50440191]]\n"
     ]
    }
   ],
   "source": [
    "# Using a2 from above\n",
    "vals, vects  = np.linalg.eig(a2)\n",
    "print(vals)\n",
    "print('\\n',vects)"
   ]
  },
  {
   "cell_type": "markdown",
   "metadata": {},
   "source": [
    "<br><br><br><br><br><br><br><br>\n",
    "### Applying the built-in Python functions `sum`, `max`, `min`, `len`, and others to arrays can result in erratic behavior.\n",
    "\n",
    "Use similar *methods* from the `numpy` package, as seen in the following examples:"
   ]
  },
  {
   "cell_type": "code",
   "execution_count": 10,
   "metadata": {},
   "outputs": [
    {
     "name": "stdout",
     "output_type": "stream",
     "text": [
      "There are 6 elements.\n",
      "There are 2 rows.\n",
      "There are 3 columns.\n"
     ]
    }
   ],
   "source": [
    "a = np.array([[1,2,3],[4,5,6]],int)\n",
    "sz = a.size # sz = np.size(a)\n",
    "nrow = a.shape[0]\n",
    "ncol = a.shape[1]\n",
    "print('There are',sz,'elements.')\n",
    "print('There are',nrow,'rows.')\n",
    "print('There are',ncol,'columns.')"
   ]
  },
  {
   "cell_type": "markdown",
   "metadata": {},
   "source": [
    "Further array methods in the `numpy` package can be found at www.scipy.org"
   ]
  },
  {
   "cell_type": "markdown",
   "metadata": {},
   "source": [
    "<br><br><br><br><br><br><br><br>\n",
    "### Some functions in `numpy` have the same name as functions in `math`. \n",
    "\n",
    "Both `numpy` and `math` have functions named `log`. Use numpy functions to operate on numpy arrays. This highlights the reason why we use calls of the following form at the beginning of programs:\n",
    "```python\n",
    "import numpy as np\n",
    "import math\n",
    "```\n",
    "Now, we can specify which version of the `log` function we want to use by typing either `np.log()` or `math.log()`. Alternatively, you can import just a single version of the function like so:\n",
    "```python\n",
    "from numpy import log\n",
    "from math import exp\n",
    "```\n",
    "Now, when you use `log()` (without the `np.` prefix), you will use the version from `numpy` and when you use `exp()`, you will be using the `math` version."
   ]
  },
  {
   "cell_type": "markdown",
   "metadata": {},
   "source": [
    "<br><br><br><br><br><br><br><br><br><br><br><br><br><br><br><br>\n",
    "\n",
    "Predict the output of the following commands. Then, try it!\n"
   ]
  },
  {
   "cell_type": "code",
   "execution_count": 11,
   "metadata": {},
   "outputs": [
    {
     "name": "stdout",
     "output_type": "stream",
     "text": [
      "[1 1]\n",
      "[1 1]\n",
      "[2 1]\n",
      "[2 1]\n"
     ]
    }
   ],
   "source": [
    "from numpy import array\n",
    "a = array([1,1],int)\n",
    "b = a\n",
    "print(a)\n",
    "print(b)\n",
    "a[0] = 2\n",
    "print(a)\n",
    "print(b)"
   ]
  },
  {
   "cell_type": "markdown",
   "metadata": {},
   "source": [
    "<br><br><br><br>\n",
    "### Warning: Be careful when copying arrays (or lists)!\n",
    "\n",
    "The command `b = a` when using arrays **does not** create a new array `b`. Instead, it declares 'b' to be a new name for 'a' so that 'a' and 'b' both refer to the same locations in the computer memory.\n",
    "\n",
    "Instead, try the following:\n"
   ]
  },
  {
   "cell_type": "code",
   "execution_count": 12,
   "metadata": {},
   "outputs": [
    {
     "name": "stdin",
     "output_type": "stream",
     "text": [
      "Once deleted, variables cannot be recovered. Proceed (y/[n])?  y\n"
     ]
    },
    {
     "name": "stdout",
     "output_type": "stream",
     "text": [
      "[1 1]\n",
      "[1 1]\n",
      "[2 1]\n",
      "[1 1]\n"
     ]
    }
   ],
   "source": [
    "%reset\n",
    "#from numpy import array, copy\n",
    "import numpy as np\n",
    "a = np.array([1,1],int)\n",
    "b = np.copy(a)\n",
    "print(a)\n",
    "print(b)\n",
    "a[0] = 2\n",
    "print(a)\n",
    "print(b)"
   ]
  },
  {
   "cell_type": "code",
   "execution_count": null,
   "metadata": {},
   "outputs": [],
   "source": []
  }
 ],
 "metadata": {
  "anaconda-cloud": {},
  "kernelspec": {
   "display_name": "Python 3",
   "language": "python",
   "name": "python3"
  },
  "language_info": {
   "codemirror_mode": {
    "name": "ipython",
    "version": 3
   },
   "file_extension": ".py",
   "mimetype": "text/x-python",
   "name": "python",
   "nbconvert_exporter": "python",
   "pygments_lexer": "ipython3",
   "version": "3.8.5"
  }
 },
 "nbformat": 4,
 "nbformat_minor": 4
}
