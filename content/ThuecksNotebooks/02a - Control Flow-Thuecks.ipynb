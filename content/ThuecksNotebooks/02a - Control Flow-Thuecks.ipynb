{
 "cells": [
  {
   "cell_type": "markdown",
   "metadata": {},
   "source": [
    "# 2a - Conditional loops<br>*(Ch. 2.3)*\n",
    "\n",
    "## Most programs you will write/encounter only execute certain blocks of code *conditionally*\n",
    "\n",
    "### `if ... elif ... else`\n",
    "\n",
    "In Python we use the following syntax:\n",
    "\n",
    "```python\n",
    "if <logical expression 1>:\n",
    "    # <some code to be executed if the above is True>\n",
    "elif <logical expression 2>:\n",
    "    # <some code if exp. 1 is False and exp. 2 is True>\n",
    "else:\n",
    "    # <some code if all above expressions are False>\n",
    "```\n",
    "Note: You can use any number of spaces (min: 1) at the beginning of the line to indicate an indentation (as long as you are consistent), though the standard is to use four spaces for each indentation. Please use this convention. It is likely already the automatic default in your python environment.\n",
    "<br><br><br><br><br><br><br><br><br><br><br><br>\n",
    "\n",
    "### Example"
   ]
  },
  {
   "cell_type": "code",
   "execution_count": null,
   "metadata": {},
   "outputs": [],
   "source": [
    "name = 'Derek'#\n",
    "if type(name) == str:\n",
    "    print('Your name is {0}'.format(name))\n",
    "    print('Who wants to know?')\n",
    "elif name == 24601:\n",
    "    print('Your name is Jean Valjean.')\n",
    "else:\n",
    "    print('I am so confused.')"
   ]
  },
  {
   "cell_type": "markdown",
   "metadata": {},
   "source": [
    "<br><br><br><br><br><br><br><br><br><br><br><br>\n",
    "\n",
    "## Comparison operators\n",
    "\n",
    "There are several comparison *operators*:\n",
    "\n",
    "* `==    equal to`\n",
    "\n",
    "* `!=    not equal to`\n",
    "\n",
    "* `>     greater than`\n",
    "\n",
    "* `<     less than`\n",
    "\n",
    "* `>=    greater than or equal to`\n",
    "\n",
    "* `<=    less than or equal to`\n",
    "\n",
    "\n",
    "You can invoke these directly. Try the following in your Python Interpreter:\n",
    "\n",
    "```python\n",
    ">>> 4 == 3\n",
    ">>> 4 > 3\n",
    ">>> (4-3) >= (5-4)\n",
    "```\n",
    "\n",
    "The `True` and `False` that your Interpreter returns is a new type of *object*, called a `Boolean`. \n",
    "\n",
    "Keeping track -- this is in addition to the `integer`, `float`, `complex`, and `string` object types that we've dealt with so far.\n",
    "\n",
    "<br><br><br><br><br><br><br><br><br><br><br><br>\n",
    "\n",
    "## We invoke Boolean *operators* to make logical comparisons.\n",
    "\n",
    "This mimics, for instance, logic gates in electronic circuits.\n",
    "\n",
    "The basic operators are:\n",
    "\n",
    "* `and:  P and Q = True only if P = True and Q = True`\n",
    "\n",
    "* `or:   P or Q  = True if P = True, Q = True, or both P and Q = True`\n",
    "\n",
    "* `not:  not P reverses the value of P.`\n",
    "\n",
    "Try the following in Spyder's editor:"
   ]
  },
  {
   "cell_type": "code",
   "execution_count": null,
   "metadata": {},
   "outputs": [],
   "source": [
    "P = True\n",
    "Q = False\n",
    "R = True\n",
    "\n",
    "print(P and Q)\n",
    "print(P or Q)\n",
    "print(not P or Q)"
   ]
  },
  {
   "cell_type": "markdown",
   "metadata": {},
   "source": [
    "Note the precedence of the Boolean operators: not, and, or. \n",
    "\n",
    "(When in doubt, use parentheses!)\n",
    "<br><br><br><br><br><br><br><br><br><br><br><br>\n",
    "\n",
    "\n",
    "### Another example\n",
    "Your D&D character is a wizard, often considered a glass canon due to high damage output but low armor class (AC). Write a program that compares an enemy's attack roll (d20+3) to the wizard's AC (12) in order to determine whether the attacker hits or misses the wizard."
   ]
  },
  {
   "cell_type": "code",
   "execution_count": null,
   "metadata": {},
   "outputs": [],
   "source": [
    "d20 = 25 # d20 attack roll\n",
    "atk_mod = 3 # Strength modifier on a melee attack\n",
    "attack = d20 + atk_mod # Total attack value\n",
    "AC = 12 # Wizard's armor class\n",
    "\n",
    "if d20 == 20:\n",
    "    print('Critical hit! Roll damage, double the dice, and add modifier.')\n",
    "elif attack >= AC and d20 < 20:\n",
    "    print('The wizard is hit! Roll damage!')\n",
    "elif attack < AC and d20 > 1:\n",
    "    print('The attacker misses.')\n",
    "elif d20 == 1:\n",
    "    print('The attacker hits one of her allies instead!')\n",
    "else:\n",
    "    print('I am confused. Do you even D&D, bro?')"
   ]
  },
  {
   "cell_type": "markdown",
   "metadata": {},
   "source": [
    "<br><br><br><br><br><br><br><br><br><br><br><br>\n",
    "\n",
    "### Exercise\n",
    "\n",
    "Write a script that asks the user to provide a numerical grade input (integer between 0 and 100 inclusive) and prints the associated letter grade. Ignore plus and minus grades.\n",
    "\n",
    "*Hint: Use `if...elif...else` conditionals as well as the `input()` and `print()` commands.\n",
    "\n",
    "<br><br><br><br><br><br><br><br><br><br><br><br>"
   ]
  },
  {
   "cell_type": "code",
   "execution_count": null,
   "metadata": {},
   "outputs": [],
   "source": [
    "if\n",
    "elif (grade <= 100) and (grade >= 90):\n",
    "    code\n",
    "elif (grade >=80) and (grade <90):"
   ]
  },
  {
   "cell_type": "markdown",
   "metadata": {},
   "source": [
    "## `while` loops\n",
    "\n",
    "A `while` loop runs forever until some statement evaluates to `False`.\n",
    "\n",
    "The syntax is:\n",
    "\n",
    "```python\n",
    "while <logical expression>:\n",
    "    # # <some code to be executed while the above is True>\n",
    "```\n",
    "\n",
    "### Example\n"
   ]
  },
  {
   "cell_type": "code",
   "execution_count": null,
   "metadata": {},
   "outputs": [],
   "source": [
    "i = 0\n",
    "while i < 10:\n",
    "    print('i=',i)\n",
    "    # careful - if you omit the line below, you have an infinite loop!\n",
    "    i += 1  # i = i + 1"
   ]
  },
  {
   "cell_type": "markdown",
   "metadata": {},
   "source": [
    "<br><br><br><br><br><br><br><br><br><br><br><br>\n",
    "\n",
    "### We can also use an `else` statement with a `while` loop.\n",
    "\n",
    "#### Example\n"
   ]
  },
  {
   "cell_type": "code",
   "execution_count": null,
   "metadata": {},
   "outputs": [],
   "source": [
    "i = 0\n",
    "while i < 10:\n",
    "    print('i=',i)\n",
    "    # careful - if you omit the line below, you have an infinite loop!\n",
    "    i += 1\n",
    "else:\n",
    "    # usually can just have this outside the while loop\n",
    "    print(\"The last value is \",i)"
   ]
  },
  {
   "cell_type": "markdown",
   "metadata": {},
   "source": [
    "<br><br><br><br><br><br><br><br><br><br><br><br>\n",
    "\n",
    "### Example\n",
    "\n",
    "Euclid's algorithm for finding the greatest common divisor of two numbers can be implemented with a `while` loop:\n",
    "\n",
    "```python\n",
    "a,b = 21,9\n",
    "while b:\n",
    "    # b is True as long as it is > 0\n",
    "    print('a =',a,'\\t b =',b,'\\t a%b =',a%b)\n",
    "    a,b = b, a%b\n",
    "print('greatest common divisor =',a)\n",
    "```"
   ]
  },
  {
   "cell_type": "code",
   "execution_count": null,
   "metadata": {},
   "outputs": [],
   "source": [
    "'''\n",
    "If we use: a,b = 1071, 462\n",
    "Then this algorithm essentially says:\n",
    "1071 = q1*462 + 147\n",
    "462  = q2*147 + 21\n",
    "147  = q3*21 + 0\n",
    "for some integers q. \n",
    "Because the rightmost term on the last line is 0, the gcd is 21.\n",
    "'''\n",
    "a,b = 1492, 504 \n",
    "while b:\n",
    "    # b is True as long as it is > 0\n",
    "    print('a =',a,'\\t b =',b,'\\t a%b =',a%b)\n",
    "    a,b = b, a%b\n",
    "print('greatest common divisor =',a)"
   ]
  },
  {
   "cell_type": "markdown",
   "metadata": {},
   "source": [
    "<br><br><br><br><br><br><br><br><br><br><br><br>\n",
    "\n",
    "## More control flow commands:<br>`break`, `pass`, and `continue`\n",
    "\n",
    "### `break`\n",
    "\n",
    "The `break` command terminates (\"breaks out of\") the current `for` or `while` loop.\n",
    "\n",
    "#### Example\n"
   ]
  },
  {
   "cell_type": "code",
   "execution_count": 1,
   "metadata": {},
   "outputs": [
    {
     "name": "stdout",
     "output_type": "stream",
     "text": [
      "1  is odd.\n",
      "2  is even.\n",
      "3  is odd.\n",
      "4  is even.\n",
      "5  is odd.\n",
      "6  is even.\n",
      "7  is odd.\n",
      "8  is even.\n",
      "9  is odd.\n",
      "10  is even.\n"
     ]
    }
   ],
   "source": [
    "i = 0\n",
    "while True:\n",
    "    # This loop will never end unless we include a 'break' statement\n",
    "    i += 1\n",
    "    if i%2 == 0:\n",
    "        print(i,\" is even.\")\n",
    "    else:\n",
    "        print(i,\" is odd.\")\n",
    "    if i >= 10:\n",
    "        break  "
   ]
  },
  {
   "cell_type": "markdown",
   "metadata": {},
   "source": [
    "<br><br><br><br><br><br><br><br><br><br><br>\n",
    "\n",
    "### `pass`\n",
    "\n",
    "The `pass` command literally does nothing (\"pass over me\"). It is only used as a placeholder where Python expects some code you've yet to write.\n",
    "\n",
    "#### Example\n"
   ]
  },
  {
   "cell_type": "code",
   "execution_count": 3,
   "metadata": {
    "scrolled": true
   },
   "outputs": [
    {
     "name": "stdout",
     "output_type": "stream",
     "text": [
      "1  is odd!\n",
      "3  is odd!\n",
      "5  is odd!\n",
      "7  is odd!\n",
      "9  is odd!\n"
     ]
    }
   ],
   "source": [
    "i = 0\n",
    "while i < 10:\n",
    "    i += 1\n",
    "    if i%2 == 0:\n",
    "        pass      #if i is even, do something later...\n",
    "    else:\n",
    "        print(i,\" is odd!\")"
   ]
  },
  {
   "cell_type": "markdown",
   "metadata": {},
   "source": [
    "<br><br><br><br><br><br><br><br><br><br><br>\n",
    "\n",
    "### `continue`\n",
    "\n",
    "The `continue` command stops the current loop and (unlike `break`) *continues* with the next iteration of the loop.\n",
    "\n",
    "#### Example\n"
   ]
  },
  {
   "cell_type": "code",
   "execution_count": 4,
   "metadata": {},
   "outputs": [
    {
     "name": "stdout",
     "output_type": "stream",
     "text": [
      "1  is odd!\n",
      "3  is odd!\n",
      "5  is odd!\n",
      "7  is odd!\n",
      "9  is odd!\n"
     ]
    }
   ],
   "source": [
    "i = 0\n",
    "while i < 10:\n",
    "    i += 1\n",
    "    if i%2 == 0:\n",
    "        continue\n",
    "    print(i,\" is odd!\")"
   ]
  },
  {
   "cell_type": "markdown",
   "metadata": {},
   "source": [
    "<br><br><br><br><br><br><br><br><br><br><br><br>\n",
    "### Exercise\n",
    "\n",
    "Write a script that determines the sum of the even numbers in the range $[0,N]$ and, separately, the sum of the odd numbers in the same range. Test your code for $N=100$.\n",
    "\n"
   ]
  },
  {
   "cell_type": "code",
   "execution_count": 7,
   "metadata": {},
   "outputs": [
    {
     "name": "stdout",
     "output_type": "stream",
     "text": [
      "Sum of evens: 30\n",
      "Sum of odds: 25\n"
     ]
    }
   ],
   "source": [
    "nmax = 10\n",
    "\n",
    "i = 0 # Initialize counter\n",
    "s_e = 0;\n",
    "s_o = 0;\n",
    "\n",
    "while i <= nmax:\n",
    "    if i%2 == 0:\n",
    "        s_e += i # s_e = s_e + i\n",
    "    else:\n",
    "        s_o += i\n",
    "    i += 1\n",
    "print('Sum of evens: {0}'.format(s_e))\n",
    "print('Sum of odds: {0}'.format(s_o))\n"
   ]
  },
  {
   "cell_type": "markdown",
   "metadata": {},
   "source": [
    "<br><br><br><br><br><br><br><br><br><br><br><br>\n",
    "\n",
    "### Exercise\n",
    "\n",
    "The value of $\\pi$ may be approximated by Monte Carlo methods. Consider the region of the $xy$-plane bounded by $0\\le x\\le 1$ and $0\\le y\\le 1$. By selecting a large number of random points within this region and counting the proportion of them lying beneath the function $y=\\sqrt{1-x^2}$ describing a quarter-circle, one can estimate $\\pi/4$, this being the area bounded by the axes and $y(x)$. Write a program to estimate the value of $\\pi$ by this method.\n",
    "\n",
    "*Hint:* use Python's `random` module. The method `random.random()` generates a pseudo-random number between 0 and 1. You must use `import random` at the beginning of your program.\n"
   ]
  },
  {
   "cell_type": "code",
   "execution_count": 5,
   "metadata": {},
   "outputs": [
    {
     "name": "stdout",
     "output_type": "stream",
     "text": [
      "0.5128360252057765\n"
     ]
    }
   ],
   "source": [
    "import random\n",
    "print(random.random())"
   ]
  },
  {
   "cell_type": "markdown",
   "metadata": {},
   "source": [
    "<br><br><br><br><br><br><br><br><br><br><br><br>"
   ]
  },
  {
   "cell_type": "code",
   "execution_count": 19,
   "metadata": {},
   "outputs": [
    {
     "name": "stdout",
     "output_type": "stream",
     "text": [
      "3.141394\n"
     ]
    }
   ],
   "source": [
    "import random\n",
    "\n",
    "N = 10000000 # Number of random numbers\n",
    "\n",
    "num_in = 0;\n",
    "i = 1\n",
    "while i <= N:\n",
    "    x = random.random()\n",
    "    y = random.random()\n",
    "    if x**2+y**2 < 1:\n",
    "        num_in += 1\n",
    "    i += 1\n",
    "print(4*num_in/N)"
   ]
  },
  {
   "cell_type": "code",
   "execution_count": null,
   "metadata": {},
   "outputs": [],
   "source": []
  },
  {
   "cell_type": "code",
   "execution_count": null,
   "metadata": {},
   "outputs": [],
   "source": []
  }
 ],
 "metadata": {
  "anaconda-cloud": {},
  "kernelspec": {
   "display_name": "Python 3",
   "language": "python",
   "name": "python3"
  },
  "language_info": {
   "codemirror_mode": {
    "name": "ipython",
    "version": 3
   },
   "file_extension": ".py",
   "mimetype": "text/x-python",
   "name": "python",
   "nbconvert_exporter": "python",
   "pygments_lexer": "ipython3",
   "version": "3.8.5"
  }
 },
 "nbformat": 4,
 "nbformat_minor": 4
}
