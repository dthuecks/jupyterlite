{
 "cells": [
  {
   "cell_type": "markdown",
   "metadata": {},
   "source": [
    "# 1a - Basic Programming <br> *(Ch. 2.2)*\n",
    "\n",
    "\n",
    "## Getting started\n",
    "* As you follow along with the notes for the course, you will most often use the program 'Spyder', accessed through Anaconda Navigator.\n",
    "* Your window will be divided into three segments: 1) Editor, 2) Help, and 3) IPython console. You will be using the IPython console for today.\n",
    "<br><br><br><br><br><br><br><br><br><br><br><br><br><br><br>\n",
    "\n",
    "## Variables and Assignments\n",
    "\n",
    "A program is a list of instructions, or *statements* which the computer *executes* in the order they appear in the program. Each statement represents some task (e.g. arithmetic) to be completed.\n",
    "\n",
    "Let's look at the simplest example.\n",
    "```python\n",
    ">>> x = 1\n",
    "```\n",
    "\n",
    "Try entering the following into Spyder:\n",
    "```python\n",
    ">>> x = 1\n",
    ">>> print(x)\n",
    ">>> x = 2\n",
    ">>> print(x)\n",
    "```\n",
    "\n",
    "This is an *assignment statement*. One of the most important things for you to understand at this point is that `=` has a different meaning in programming than it does in standard mathematics. In Python (and most programming languages), the equals sign is used to assign a value to a variable.\n",
    "<br><br><br><br><br><br><br><br><br><br><br><br><br><br><br>\n",
    "\n",
    "### There are *rules* and *guidelines* for naming variables.\n",
    "\n",
    "#### Rules:\n",
    "\n",
    "* Variable names are case-sensitive.\n",
    "\n",
    "* Variable names are *alphanumeric* (letters and numbers) and can include an underscore: `mean_height`.\n",
    "\n",
    "* Variable names cannot *start* with a number.\n",
    "<br><br><br><br><br><br><br><br><br>\n",
    "\n",
    "#### Guidelines:\n",
    "\n",
    "* There are a number of *reserved keywords* that should not be used as variable names (you will temporarily overwrite them and be unable to use them).\n",
    "\n",
    "    + These include words like `and, def, for, if` etc.\n",
    "    \n",
    "    + These are rather specific words you are unlikely to choose as variable names, but it is important to keep in mind!\n",
    "        \n",
    "* Try to use variable names that are meaningful and brief (e.g. `trial_nmbr` vs. `the_trial_number`)\n",
    "\n",
    "* Avoid variable names that are easily confused, like \"I\" (1?) and \"O\" (0?)\n",
    "\n",
    "* `i, j,` and `k` are usually used as integer counters and shouldn't be used for other variables.\n",
    "\n",
    "* Generally, use lowercase variables and underscores rather than uppercase letters (`terminal_velocity` vs. `TerminalVelocity`)\n",
    "\n",
    "There is a lengthy \"style guide\" for Python called PEP8, which is intended to make it easy for people to read Python code written by others. We'll introduce good habits as we go along.  \n",
    "<br><br><br><br><br><br><br><br><br>\n",
    "\n",
    "## Variable types\n",
    "\n",
    "Python numbers are *integers*, *floats*, or *complex*.\n",
    "\n",
    "* Integers are specified with no decimal point (e.g. `3`) \n",
    "\n",
    "* Floats are specified with a decimal or with scientific notation (e.g. `3.0` or `3.4E-2`).\n",
    "\n",
    "* Complex numbers are specified with the format **`<real> + <imag>j`** or with the **`complex(<real>,<imaginary>)`** command (e.g. `3+4j` or `complex(3,4)`).\n",
    "\n",
    "* You can check a number's type with the **`type()`** command:"
   ]
  },
  {
   "cell_type": "code",
   "execution_count": null,
   "metadata": {},
   "outputs": [],
   "source": [
    "type(3.2)\n"
   ]
  },
  {
   "cell_type": "markdown",
   "metadata": {},
   "source": [
    "You can change a number's type with the `int()`, `float()` and `complex()` commands:"
   ]
  },
  {
   "cell_type": "code",
   "execution_count": null,
   "metadata": {},
   "outputs": [],
   "source": [
    "type(int(3.2))"
   ]
  },
  {
   "cell_type": "markdown",
   "metadata": {},
   "source": [
    "\n",
    "<br><br><br><br><br><br><br><br><br><br><br><br><br><br><br>\n",
    "### Why do we need or want *integers* or *floats* when the *complex* variable type seems to be the most general?\n",
    "<br><br><br><br><br><br><br><br><br><br><br><br><br><br><br>\n",
    "### Why do we need or want *integers* or *floats* when the *complex* variable type seems to be the most general?\n",
    "  + Minimize memory usage - Complex variables use more system memory because more information is contained in them. *Integers* use the least memory per variable.\n",
    "  + Maximize speed - Calculations using *complex* variables take longest to complete while calculations using *integers* are the fastest\n",
    "  + Rounding errors - *float* and *complex* variables can introduce small rounding errors due to precision capabilities of the computer. We'll discuss this later.<br>\n",
    "\n",
    "It is best to use *integer* variable type for items that are guaranteed to have integer values."
   ]
  },
  {
   "cell_type": "code",
   "execution_count": null,
   "metadata": {},
   "outputs": [],
   "source": [
    "type(int(3.0))"
   ]
  },
  {
   "cell_type": "markdown",
   "metadata": {},
   "source": [
    "<br><br><br><br><br><br><br><br><br><br><br><br>\n",
    "\n",
    "### When creating variables, be wary of *immutability*.\n",
    "\n",
    "Consider for example:\n",
    "\n",
    "```python\n",
    "a = 12\n",
    "b = a\n",
    "a = 8\n",
    "```\n",
    "\n",
    "What is the value of b after running this code? Check it out on your machine!\n",
    "\n",
    "<br><br><br><br><br><br><br><br><br><br><br><br>\n",
    "\n",
    "We can dig into this further with the `id()` (\"identity\") command:"
   ]
  },
  {
   "cell_type": "code",
   "execution_count": null,
   "metadata": {},
   "outputs": [],
   "source": [
    "a = 12\n",
    "b = a\n",
    "print(id(a))\n",
    "print(id(b))\n",
    "a = 8\n",
    "print(id(a))\n",
    "print(id(b))\n",
    "print(b)"
   ]
  },
  {
   "cell_type": "markdown",
   "metadata": {},
   "source": [
    "We see that a is initially assigned to the integer 12 with a particular location in the machine's memory.\n",
    "\n",
    "The second line says \"assign b to the same memory location.\"\n",
    "\n",
    "When a is re-assigned, b keeps pointing to the same memory location.\n",
    "<br><br><br><br><br><br><br><br><br><br><br><br>\n",
    "Contrast this with the following:"
   ]
  },
  {
   "cell_type": "code",
   "execution_count": null,
   "metadata": {},
   "outputs": [],
   "source": [
    "a = 1200\n",
    "b = 1200\n",
    "print(id(a))\n",
    "print(id(b))\n",
    "print(a == b)\n",
    "print(a is b)\n",
    "\n",
    "a = 8\n",
    "print(id(a))\n",
    "print(id(b))\n",
    "print(a == b)\n",
    "print(a is b)"
   ]
  },
  {
   "cell_type": "markdown",
   "metadata": {},
   "source": [
    "We see that this method gives the variables a and b different memory locations, even though their values are the same.\n",
    "\n",
    "the == operator doesn't care about memory id.\n",
    "\n",
    "the is (and is not) operators care only about memory id.\n",
    "\n",
    "(Note also that we used 1200 as the example here because typically the first 256 integers are assigned to specific memory locations, so we wouldn't get the same behavior in the above example if we used e.g. 12.)\n",
    "\n",
    "This can be subtle and confusing, but the key take away is defining a variable in terms of another variable does not bind them going forward."
   ]
  },
  {
   "cell_type": "markdown",
   "metadata": {},
   "source": [
    "<br><br><br><br><br><br><br><br><br>\n",
    "There is another variable type that we will use frequently. A *string* is a piece of text. We mark it by wrapping text in a single quote:\n",
    "\n",
    "`x = 'like this'`\n",
    "\n",
    "or in a double quote:\n",
    "\n",
    "`x = \"like this\"`\n",
    "\n",
    "A string object has type `str`. Strings have their own rules. Try the following:\n",
    "\n",
    "```python\n",
    ">>> 'abc''cdf'\n",
    ">>> 'abc'+'cdf'\n",
    ">>> 'abc'*3\n",
    ">>> str(4*2+3)\n",
    ">>> str(4*2)+3\n",
    ">>> 'I said to her, \"but why is the tomato blue?\"'\n",
    "```"
   ]
  },
  {
   "cell_type": "code",
   "execution_count": null,
   "metadata": {},
   "outputs": [],
   "source": [
    "'I said to her, \"but why is the tomato blue?\"'"
   ]
  },
  {
   "cell_type": "markdown",
   "metadata": {},
   "source": [
    "<br><br><br><br><br><br><br><br><br><br><br><br><br><br><br>\n",
    "Let's take a brief aside to discusses spaces in statements within our program.\n",
    "  + `x=1` and `x = 1` do the exact same thing\n",
    "  + Additional spaces can assist in program readability\n",
    "  + You *cannot* add additional spaces at the beginning of a line, before the start of a statement. Such spaces *WILL* change the way the code works. We will discuss this later when we discuss loops.\n",
    "  \n",
    "Also note that blank lines between statements in a program change nothing about program operation. These can also be used to distinguish between sections of a program."
   ]
  }
 ],
 "metadata": {
  "anaconda-cloud": {},
  "kernelspec": {
   "display_name": "Python 3",
   "language": "python",
   "name": "python3"
  },
  "language_info": {
   "codemirror_mode": {
    "name": "ipython",
    "version": 3
   },
   "file_extension": ".py",
   "mimetype": "text/x-python",
   "name": "python",
   "nbconvert_exporter": "python",
   "pygments_lexer": "ipython3",
   "version": "3.7.4"
  }
 },
 "nbformat": 4,
 "nbformat_minor": 4
}
