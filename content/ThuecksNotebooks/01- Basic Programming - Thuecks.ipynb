{
 "cells": [
  {
   "cell_type": "markdown",
   "metadata": {},
   "source": [
    "# 1a - Basic Programming <br> *(Ch. 2.2)*\n",
    "\n",
    "\n",
    "## Getting started\n",
    "* As you follow along with the notes for the course, you will most often use the program 'Spyder', accessed through Anaconda Navigator.\n",
    "* Your window will be divided into three segments: 1) Editor, 2) Help, and 3) IPython console. You will be using the IPython console for today.\n",
    "<br><br><br><br><br><br><br><br><br><br><br><br><br><br><br>\n",
    "\n",
    "## Variables and Assignments\n",
    "\n",
    "A program is a list of instructions, or *statements* which the computer *executes* in the order they appear in the program. Each statement represents some task (e.g. arithmetic) to be completed.\n",
    "\n",
    "Let's look at the simplest example.\n",
    "```python\n",
    ">>> x = 1\n",
    "```\n",
    "\n",
    "Try entering the following into Spyder:\n",
    "```python\n",
    ">>> x = 1\n",
    ">>> print(x)\n",
    ">>> x = 2\n",
    ">>> print(x)\n",
    "```\n",
    "\n",
    "This is an *assignment statement*. One of the most important things for you to understand at this point is that `=` has a different meaning in programming than it does in standard mathematics. In Python (and most programming languages), the equals sign is used to assign a value to a variable.\n",
    "<br><br><br><br><br><br><br><br><br><br><br><br><br><br><br>\n",
    "\n",
    "### There are *rules* and *guidelines* for naming variables.\n",
    "\n",
    "#### Rules:\n",
    "\n",
    "* Variable names are case-sensitive.\n",
    "\n",
    "* Variable names are *alphanumeric* (letters and numbers) and can include an underscore: `mean_height`.\n",
    "\n",
    "* Variable names cannot *start* with a number.\n",
    "<br><br><br><br><br><br><br><br><br>\n",
    "\n",
    "#### Guidelines:\n",
    "\n",
    "* There are a number of *reserved keywords* that should not be used as variable names (you will temporarily overwrite them and be unable to use them).\n",
    "\n",
    "    + These include words like `and, def, for, if` etc.\n",
    "    \n",
    "    + These are rather specific words you are unlikely to choose as variable names, but it is important to keep in mind!\n",
    "        \n",
    "* Try to use variable names that are meaningful and brief (e.g. `trial_nmbr` vs. `the_trial_number`)\n",
    "\n",
    "* Avoid variable names that are easily confused, like \"I\" (1?) and \"O\" (0?)\n",
    "\n",
    "* `i, j,` and `k` are usually used as integer counters and shouldn't be used for other variables.\n",
    "\n",
    "* Generally, use lowercase variables and underscores rather than uppercase letters (`terminal_velocity` vs. `TerminalVelocity`)\n",
    "\n",
    "There is a lengthy \"style guide\" for Python called PEP8, which is intended to make it easy for people to read Python code written by others. We'll introduce good habits as we go along.  \n",
    "<br><br><br><br><br><br><br><br><br>\n",
    "\n",
    "## Variable types\n",
    "\n",
    "Python numbers are *integers*, *floats*, or *complex*.\n",
    "\n",
    "* Integers are specified with no decimal point (e.g. `3`) \n",
    "\n",
    "* Floats are specified with a decimal or with scientific notation (e.g. `3.0` or `3.4E-2`).\n",
    "\n",
    "* Complex numbers are specified with the format **`<real> + <imag>j`** or with the **`complex(<real>,<imaginary>)`** command (e.g. `3+4j` or `complex(3,4)`).\n",
    "\n",
    "* You can check a number's type with the **`type()`** command:"
   ]
  },
  {
   "cell_type": "code",
   "execution_count": 2,
   "metadata": {},
   "outputs": [
    {
     "data": {
      "text/plain": [
       "int"
      ]
     },
     "execution_count": 2,
     "metadata": {},
     "output_type": "execute_result"
    }
   ],
   "source": [
    "x=4\n",
    "type(x)\n"
   ]
  },
  {
   "cell_type": "markdown",
   "metadata": {},
   "source": [
    "You can change a number's type with the `int()`, `float()` and `complex()` commands:"
   ]
  },
  {
   "cell_type": "code",
   "execution_count": 8,
   "metadata": {},
   "outputs": [
    {
     "data": {
      "text/plain": [
       "(4+3j)"
      ]
     },
     "execution_count": 8,
     "metadata": {},
     "output_type": "execute_result"
    }
   ],
   "source": [
    "4+3j\n"
   ]
  },
  {
   "cell_type": "markdown",
   "metadata": {},
   "source": [
    "\n",
    "<br><br><br><br><br><br><br><br><br><br><br><br><br><br><br>\n",
    "### Why do we need or want *integers* or *floats* when the *complex* variable type seems to be the most general?\n",
    "<br><br><br><br><br><br><br><br><br><br><br><br><br><br><br>\n",
    "### Why do we need or want *integers* or *floats* when the *complex* variable type seems to be the most general?\n",
    "  + Minimize memory usage - Complex variables use more system memory because more information is contained in them. *Integers* use the least memory per variable.\n",
    "  + Maximize speed - Calculations using *complex* variables take longest to complete while calculations using *integers* are the fastest\n",
    "  + Rounding errors - *float* and *complex* variables can introduce small rounding errors due to precision capabilities of the computer. We'll discuss this later.<br>\n",
    "\n",
    "It is best to use *integer* variable type for items that are guaranteed to have integer values."
   ]
  },
  {
   "cell_type": "code",
   "execution_count": null,
   "metadata": {},
   "outputs": [],
   "source": [
    "type(int(3.0))"
   ]
  },
  {
   "cell_type": "markdown",
   "metadata": {},
   "source": [
    "<br><br><br><br><br><br><br><br><br><br><br><br>\n",
    "\n",
    "### When creating variables, be wary of *immutability*.\n",
    "\n",
    "Consider for example:\n",
    "\n",
    "```python\n",
    "a = 12\n",
    "b = a\n",
    "a = 8\n",
    "```\n",
    "\n",
    "What is the value of b after running this code? Check it out on your machine!\n",
    "\n",
    "<br><br><br><br><br><br><br><br><br><br><br><br>\n",
    "\n",
    "We can dig into this further with the `id()` (\"identity\") command:"
   ]
  },
  {
   "cell_type": "code",
   "execution_count": 9,
   "metadata": {},
   "outputs": [
    {
     "name": "stdout",
     "output_type": "stream",
     "text": [
      "12\n"
     ]
    }
   ],
   "source": [
    "a = 12\n",
    "b = a\n",
    "a = 8\n",
    "print(b)"
   ]
  },
  {
   "cell_type": "code",
   "execution_count": 10,
   "metadata": {},
   "outputs": [
    {
     "name": "stdout",
     "output_type": "stream",
     "text": [
      "140704737108720\n",
      "140704737108720\n",
      "140704737108592\n",
      "140704737108720\n",
      "12\n"
     ]
    }
   ],
   "source": [
    "a = 12\n",
    "b = a\n",
    "print(id(a))\n",
    "print(id(b))\n",
    "a = 8\n",
    "print(id(a))\n",
    "print(id(b))\n",
    "print(b)"
   ]
  },
  {
   "cell_type": "markdown",
   "metadata": {},
   "source": [
    "We see that a is initially assigned to the integer 12 with a particular location in the machine's memory.\n",
    "\n",
    "The second line says \"assign b to the same memory location.\"\n",
    "\n",
    "When a is re-assigned, b keeps pointing to the same memory location.\n",
    "<br><br><br><br><br><br><br><br><br><br><br><br>\n",
    "Contrast this with the following:"
   ]
  },
  {
   "cell_type": "code",
   "execution_count": 11,
   "metadata": {},
   "outputs": [
    {
     "name": "stdout",
     "output_type": "stream",
     "text": [
      "2320348018032\n",
      "2320348017648\n",
      "True\n",
      "False\n",
      "140704737108592\n",
      "2320348017648\n",
      "False\n",
      "False\n"
     ]
    }
   ],
   "source": [
    "a = 1200\n",
    "b = 1200\n",
    "print(id(a))\n",
    "print(id(b))\n",
    "print(a == b)\n",
    "print(a is b)\n",
    "\n",
    "a = 8\n",
    "print(id(a))\n",
    "print(id(b))\n",
    "print(a == b)\n",
    "print(a is b)"
   ]
  },
  {
   "cell_type": "markdown",
   "metadata": {},
   "source": [
    "We see that this method gives the variables a and b different memory locations, even though their values are the same.\n",
    "\n",
    "the == operator doesn't care about memory id.\n",
    "\n",
    "the is (and is not) operators care only about memory id.\n",
    "\n",
    "(Note also that we used 1200 as the example here because typically the first 256 integers are assigned to specific memory locations, so we wouldn't get the same behavior in the above example if we used e.g. 12.)\n",
    "\n",
    "This can be subtle and confusing, but the key take away is defining a variable in terms of another variable does not bind them going forward."
   ]
  },
  {
   "cell_type": "markdown",
   "metadata": {},
   "source": [
    "<br><br><br><br><br><br><br><br><br>\n",
    "There is another variable type that we will use frequently. A *string* is a piece of text. We mark it by wrapping text in a single quote:\n",
    "\n",
    "`x = 'like this'`\n",
    "\n",
    "or in a double quote:\n",
    "\n",
    "`x = \"like this\"`\n",
    "\n",
    "A string object has type `str`. Strings have their own rules. Try the following:\n",
    "\n",
    "```python\n",
    ">>> 'abc''cdf'\n",
    ">>> 'abc'+'cdf'\n",
    ">>> 'abc'*3\n",
    ">>> str(4*2+3)\n",
    ">>> str(4*2)+3\n",
    ">>> 'I said to her, \"but why is the tomato blue?\"'\n",
    "```"
   ]
  },
  {
   "cell_type": "code",
   "execution_count": 15,
   "metadata": {},
   "outputs": [
    {
     "data": {
      "text/plain": [
       "'Test the string'"
      ]
     },
     "execution_count": 15,
     "metadata": {},
     "output_type": "execute_result"
    }
   ],
   "source": []
  },
  {
   "cell_type": "markdown",
   "metadata": {},
   "source": [
    "<br><br><br><br><br><br><br><br><br><br><br><br><br><br><br>\n",
    "Let's take a brief aside to discusses spaces in statements within our program.\n",
    "  + `x=1` and `x = 1` do the exact same thing\n",
    "  + Additional spaces can assist in program readability\n",
    "  + You *cannot* add additional spaces at the beginning of a line, before the start of a statement. Such spaces *WILL* change the way the code works. We will discuss this later when we discuss loops.\n",
    "  \n",
    "Also note that blank lines between statements in a program change nothing about program operation. These can also be used to distinguish between sections of a program."
   ]
  },
  {
   "cell_type": "code",
   "execution_count": 1,
   "metadata": {},
   "outputs": [
    {
     "name": "stdout",
     "output_type": "stream",
     "text": [
      "[1, 2, 3]\n",
      "[1, 2, 3]\n"
     ]
    }
   ],
   "source": []
  },
  {
   "cell_type": "markdown",
   "metadata": {},
   "source": [
    "<br><br><br><br><br><br><br><br><br><br><br><br><br>\n",
    "# 1b - Basic Programming (cntd) <br> *(Ch. 2.2)*\n",
    "\n",
    "## Output and Input Statements\n",
    "\n",
    "We've already been using the `print()` command, which is an example of an output command. For many programs, we desire to provide *inputs* to our program and for the program to then provide some useful *output*. \n",
    "\n",
    "Try the following examples and discuss what they do:\n",
    "```python\n",
    ">>> x = 1\n",
    ">>> y = 2\n",
    ">>> print(x,y)\n",
    ">>> print(x,y,sep=\"...\")\n",
    "\n",
    ">>> x , y = 3 , 5.0\n",
    ">>> print(x,y)\n",
    ">>> print(x,y,sep=\" , \")\n",
    "    \n",
    ">>> x = 0.3\n",
    ">>> print(\"Late homework is penalized by\",x,\"percent for every hour it is late.\")\n",
    "    \n",
    ">>> x = input(\"Enter here the grade you will receive if you develop Skynet in this course: \")\n",
    ">>> print(\"If you develop Skynet, not only will you receive a grade of\",x,\"but all of humanity will curse your name for all of time. Have a nice day.\")\n",
    "```\n",
    "<br><br><br><br><br><br><br><br><br>\n",
    "For the following set of commands, run it twice: \n",
    "* first entering a value of 59 at the prompt,  \n",
    "* next entering the word 'black'.\n",
    "\n",
    "```python\n",
    ">>> xtemp = input(\"Enter the age of Dr. Thuecks (in years):\") \n",
    ">>> x = float(xtemp)\n",
    ">>> print(\"Dr. Thuecks is\",x,\"years old\")\n",
    "```\n",
    "Without the second line, the program would have run without an error in the second instance but the statement would not make sense. After all, 'black' is not an age, it is the color of Dr. Thuecks's soul. The second line provides one example of a way to prevent nonsense input from being provided. "
   ]
  },
  {
   "cell_type": "code",
   "execution_count": 4,
   "metadata": {},
   "outputs": [
    {
     "name": "stdin",
     "output_type": "stream",
     "text": [
      "Enter here the grade you will receive if you develop Skynet in this course:  10\n"
     ]
    },
    {
     "name": "stdout",
     "output_type": "stream",
     "text": [
      "If you develop Skynet, not only will you receive a grade of 10 but all of humanity will curse your name for all of time. Have a nice day.\n",
      "101010\n"
     ]
    }
   ],
   "source": [
    "x = input(\"Enter here the grade you will receive if you develop Skynet in this course: \")\n",
    "print(\"If you develop Skynet, not only will you receive a grade of\",x,\"but all of humanity will curse your name for all of time. Have a nice day.\")\n",
    "print(x*3)"
   ]
  },
  {
   "cell_type": "markdown",
   "metadata": {},
   "source": [
    "<br><br><br><br><br><br><br><br><br><br>\n",
    "\n",
    "## One of the most practical uses for strings is in summarizing the output of a program.\n",
    "\n",
    "In these cases it is useful to use string formatting. For example, try:"
   ]
  },
  {
   "cell_type": "code",
   "execution_count": 9,
   "metadata": {},
   "outputs": [
    {
     "name": "stdout",
     "output_type": "stream",
     "text": [
      "The murder was done by Han in the Mos Eisley Cantina with the blaster. #HanShotFirst #Maclunkey\n",
      "The murder was done by Han in the Mos Eisley Cantina with the blaster.#HanShotFirst #Maclunkey\n"
     ]
    }
   ],
   "source": [
    "person = 'Han'\n",
    "place = 'Mos Eisley Cantina'\n",
    "weapon = 'blaster'\n",
    "s = 'The murder was done by {0} in the {1} with the {2}.'.format(person,place,weapon)\n",
    "print(s + ' #HanShotFirst #Maclunkey')\n",
    "ss= s + ' #HanShotFirst #Maclunkey'\n",
    "print(ss)"
   ]
  },
  {
   "cell_type": "markdown",
   "metadata": {},
   "source": [
    "<br><br><br><br><br><br><br><br><br><br>\n",
    "​\n",
    "### There are many ways to customize the output, but we generally only care about a few.\n",
    "​\n",
    "We can specify the format and precision of floating point numbers by adding a colon after the placeholder index. For example:\n",
    "​\n",
    "* `{0:.3f}  ` specifies a floating point format with 3 places after the decimal\n",
    "​\n",
    "* `{0:.2g}  ` specifies a general numeric format with 2 numbers; the format goes to scientific notation for very large or small numbers\n",
    "​\n",
    "* `{0:.2E}  ` specifies exponential (i.e., scientific) notation with 2 places after the decimal.\n",
    "​\n",
    "Try the below code, but with all of the above examples substituted in for `{0}`:\n",
    "​\n",
    "```python\n",
    "score = 5.6789\n",
    "s = 'The restaurant has a customer rating of {0:.2g}.'.format(score)\n",
    "print(s)\n",
    "```\n",
    "\n",
    "Experiment a bit with varying the formatting for several values of `score` (e.g. very small, very large, and 5.6789)."
   ]
  },
  {
   "cell_type": "code",
   "execution_count": 17,
   "metadata": {},
   "outputs": [
    {
     "name": "stdout",
     "output_type": "stream",
     "text": [
      "The restaurant has a customer rating of 57.\n"
     ]
    }
   ],
   "source": [
    "score = 56.9225\n",
    "s = 'The restaurant has a customer rating of {0:.2g}.'.format(score)\n",
    "print(s)"
   ]
  },
  {
   "cell_type": "markdown",
   "metadata": {},
   "source": [
    "<br><br><br><br><br><br><br><br><br><br><br><br><br><br><br>\n",
    "## Arithmetic\n",
    "Mathematical operators (Section 2.2.4):\n",
    "\n",
    "* `+` addition\n",
    "\n",
    "* `-` subtraction\n",
    "\n",
    "* `*` multiplication\n",
    "\n",
    "* `/` floating point division\n",
    "\n",
    "* `//` integer division\n",
    "\n",
    "* `%` modulus (remainder)\n",
    "\n",
    "* `**` exponentiation\n",
    "\n",
    "Try a few examples on your own machine and make sure you understand what each operation does:\n",
    "\n",
    "```python\n",
    ">>> 5 + 3\n",
    ">>> 5.0 / 2.0\n",
    ">>> 5.0 // 2.0\n",
    ">>> 5.0 % 2.0\n",
    ">>> 2**3**2\n",
    "```"
   ]
  },
  {
   "cell_type": "code",
   "execution_count": 27,
   "metadata": {},
   "outputs": [
    {
     "data": {
      "text/plain": [
       "64"
      ]
     },
     "execution_count": 27,
     "metadata": {},
     "output_type": "execute_result"
    }
   ],
   "source": [
    "2**(3**2)"
   ]
  },
  {
   "cell_type": "markdown",
   "metadata": {},
   "source": [
    "<br><br><br><br><br><br><br><br><br>\n",
    "\n",
    "### Operator Precedence (Table 2.2):\n",
    "\n",
    "* `**          (highest)`\n",
    "\n",
    "* `*,/,//,%    (left to right in statement)`\n",
    "\n",
    "* `+,-         (lowest)`\n",
    "\n",
    "Among operators of equal precedence, priority runs left to right as written in an expression (except for exponentiation, which is right to left).\n",
    "\n",
    "This can differ from the usual \"PEMDAS\" order of operations!\n",
    "\n",
    "*When in doubt, use parentheses!*\n",
    "\n",
    "Some more examples:\n",
    "\n",
    "```python\n",
    ">>> 9/3*2\n",
    ">>> 9*3/2\n",
    ">>> 3**2**2\n",
    ">>> 3**(2**2)\n",
    ">>> (3**2)**2\n",
    "```"
   ]
  },
  {
   "cell_type": "code",
   "execution_count": null,
   "metadata": {},
   "outputs": [],
   "source": [
    "3**2**2"
   ]
  },
  {
   "cell_type": "markdown",
   "metadata": {},
   "source": [
    "<br><br><br><br><br><br><br><br><br><br><br><br>\n",
    "## You are now equipped to use Python as a simple scientific calculator (woo!).\n",
    "\n",
    "For anything more complex, we will need to invoke the idea of a *variable*, which references an *object* like an integer or a floating point number. \n",
    "\n",
    "For example, try:"
   ]
  },
  {
   "cell_type": "code",
   "execution_count": 2,
   "metadata": {},
   "outputs": [
    {
     "data": {
      "text/plain": [
       "50"
      ]
     },
     "execution_count": 2,
     "metadata": {},
     "output_type": "execute_result"
    }
   ],
   "source": [
    "x = 5\n",
    "y = 10\n",
    "x*y"
   ]
  },
  {
   "cell_type": "markdown",
   "metadata": {},
   "source": [
    "<br><br><br><br><br><br><br><br><br>\n",
    "\n",
    "### Let's try an example (E2.3) to show the power of variables.\n",
    "\n",
    "*Heron's formula* gives the area of a triangle with sides a, b, and c as:\n",
    "\n",
    "$$ \\Large A = \\sqrt{s(s-a)(s-b)(s-c)}\\text{ where }s=\\frac{1}{2}(a+b+c) $$\n",
    "\n",
    "In the main **editor** window in Spyder, write a program that determines the area of a triangle with arbitrary values for a, b, and c. Test it for\n",
    "\n",
    "```python\n",
    "a = 3\n",
    "b = 4\n",
    "c = 5\n",
    "```\n",
    "*Hint: Press the green arrow to run the program*\n"
   ]
  },
  {
   "cell_type": "code",
   "execution_count": 5,
   "metadata": {},
   "outputs": [
    {
     "name": "stdout",
     "output_type": "stream",
     "text": [
      "The area is 7.483314773547883\n"
     ]
    }
   ],
   "source": [
    "a = 3\n",
    "b = 5\n",
    "c = 6\n",
    "\n",
    "s = (a + b + c)/2\n",
    "\n",
    "A = (s*(s-a)*(s-b)*(s-c))**(1/2)\n",
    "\n",
    "print('The area is',A)"
   ]
  },
  {
   "cell_type": "markdown",
   "metadata": {},
   "source": [
    "<br><br><br><br><br><br><br><br><br><br><br><br><br>"
   ]
  },
  {
   "cell_type": "code",
   "execution_count": null,
   "metadata": {},
   "outputs": [],
   "source": [
    "a=3\n",
    "b=4\n",
    "c=5\n",
    "\n",
    "s = 0.5*(a+b+c)\n",
    "A = (s*(s-a)*(s-b)*(s-c))**0.5\n",
    "print(A)"
   ]
  },
  {
   "cell_type": "markdown",
   "metadata": {},
   "source": [
    "<br><br><br><br><br><br><br><br><br><br><br><br>\n",
    "\n",
    "### When manipulating variables, we often use *augmented assignment* as a shorthand.\n",
    "\n",
    "The syntax is:\n",
    "\n",
    "* `+=    increase by what follows, e.g. a += 2`\n",
    "\n",
    "* `-=    decrease by what follows, e.g. a -= 2`\n",
    "\n",
    "* `*=    multiply by what follows, e.g. a *= 2`\n",
    "\n",
    "* `/=    divide by what follows,   e.g. a /= 2`\n",
    "\n",
    "For example, the following two blocks of code are identical:\n",
    "\n",
    "```python\n",
    "  Code 1               Code 2     \n",
    ">>> a = 7            >>> a = 7\n",
    "\n",
    ">>> a = a + 2        >>> a += 2\n",
    ">>> a = a - 2        >>> a -= 2\n",
    ">>> a = a * 2        >>> a *= 2\n",
    ">>> a = a / 2        >>> a /= 2\n",
    "```\n",
    "\n",
    "This further emphasizes that `=`  has a different meaning in code than its standard mathematical meaning. "
   ]
  },
  {
   "cell_type": "markdown",
   "metadata": {},
   "source": [
    "<br><br><br><br><br><br><br><br><br><br><br><br>\n",
    "# 1c - Basic Programming (cntd) <br> *(Ch. 2.2)*\n",
    "\n",
    "## Exercise 2.2: Altitude of a satelite\n",
    "A satellite is to be launched into a circular orbit around the Earth so that it orbits the planet once every *T* seconds.\n",
    "\n",
    "a) Show that the altitude $h$ above the Earth's surface that the satellite must have is \n",
    "$$ h = \\left(\\frac{GMT^2}{4\\pi^2}\\right)^{1/3} - R,$$\n",
    "where $G = 6.67 \\times 10^{-11}$ m$^3$kg$^{-1}$s$^{-2}$ is Newton's gravitational constant, $M = 5.97 \\times 10^{24}$ kg is the mass of the Earth, and $R=6371$ km is its radius.\n",
    "\n",
    "<span style=\"color:blue\">Answer: Equate centripetal acceleration with gravity, so that $GM/r=\\omega^2 r$ and then note that $r=R+h$ and $\\omega=2\\pi/T$ and rearrange.</span>\n",
    "\n",
    "b) Write a program that asks the user to enter the desired value of $T$ and then calculates and prints out the correct altitude in meters.\n",
    "\n",
    "c) Use your program to calculate the altitudes of satellites that orbit the Earth once a day (so-called \"geosynchronous\" orbit), once every 90 minutes, and once every 45 minutes. What do you conclude from the last of these calculations?\n",
    "\n",
    "d) Technically a geosynchronous satellite is one that orbits the Earth once per *sidreal day*, which is 23.93 hours, not 24 hours. Why is this? And how much difference will it make to the altitude of the satellite?\n",
    "<br><br><br><br><br><br>\n"
   ]
  },
  {
   "cell_type": "code",
   "execution_count": null,
   "metadata": {},
   "outputs": [],
   "source": []
  },
  {
   "cell_type": "markdown",
   "metadata": {},
   "source": [
    "<br><br><br><br><br><br><br>"
   ]
  },
  {
   "cell_type": "code",
   "execution_count": 1,
   "metadata": {},
   "outputs": [
    {
     "name": "stdin",
     "output_type": "stream",
     "text": [
      "Enter period in seconds:  1000\n"
     ]
    },
    {
     "name": "stdout",
     "output_type": "stream",
     "text": [
      "The required altitude for T= 1000.0 seconds is h= -4210.37128917657 kilometers\n"
     ]
    }
   ],
   "source": [
    "# Using current knowledge\n",
    "from math import pi\n",
    "\n",
    "G = 6.67e-11 # Gravitational constant in m^3 kg^-1 s^-2\n",
    "M = 5.97e24 # Mass of Earth in kg\n",
    "R = 6371e3 # Radius of Earth in m\n",
    "\n",
    "T = float(input(\"Enter period in seconds: \"))\n",
    "h = (G*M*T**2/(4*pi**2))**(1/3) - R # Orbit altitude\n",
    "print(\"The required altitude for T=\",T,\"seconds is h=\",h/1000,\"kilometers\")"
   ]
  },
  {
   "cell_type": "code",
   "execution_count": 12,
   "metadata": {},
   "outputs": [
    {
     "name": "stdout",
     "output_type": "stream",
     "text": [
      "The required altitude for T= 1 day is h= 35855.91017617498 kilometers\n",
      "The required altitude for T= 1 sidereal day is h= 35773.762329895646 kilometers\n",
      "The required altitude for T= 90 minutes is h= 279.3216253728606 kilometers\n",
      "The required altitude for T= 45 minutes is h= -2181.5598978108233 kilometers\n"
     ]
    }
   ],
   "source": [
    "# Using coding techniques from the next couple of days\n",
    "from numpy import pi, array, size\n",
    "\n",
    "T = array([24*60*60.,23.93*60*60., 90*60., 45*60.]) # T expressed in seconds\n",
    "T_labels = ['1 day','1 sidereal day','90 minutes','45 minutes']\n",
    "\n",
    "G = 6.67e-11 # Gravitational constant in m^3 kg^-1 s^-2\n",
    "M = 5.97e24 # Mass of Earth in kg\n",
    "R = 6371e3 # Radius of Earth in m\n",
    "\n",
    "h = (G*M*T**2/(4*pi**2))**(1/3) - R\n",
    "\n",
    "for i in range(size(T)):\n",
    "    print(\"The required altitude for T=\",T_labels[i],\"is h=\",h[i]/1000,\"kilometers\")"
   ]
  },
  {
   "cell_type": "markdown",
   "metadata": {},
   "source": [
    "<br><br><br><br><br><br><br><br><br><br>\n",
    "\n",
    "## Standard mathematical functions\n",
    "\n",
    "When you load Python, it provides a library of *built-in* functions that are immediately accessible. \n",
    "\n",
    "Try:\n",
    "```python\n",
    ">>> abs(-2.5)\n",
    ">>> abs(2.5)\n",
    ">>> abs(4+3j)\n",
    ">>> round(3.5)\n",
    ">>> round(4.5)\n",
    "```"
   ]
  },
  {
   "cell_type": "code",
   "execution_count": 8,
   "metadata": {},
   "outputs": [
    {
     "data": {
      "text/plain": [
       "5.0"
      ]
     },
     "execution_count": 8,
     "metadata": {},
     "output_type": "execute_result"
    }
   ],
   "source": [
    "abs(4+3j)"
   ]
  },
  {
   "cell_type": "markdown",
   "metadata": {},
   "source": [
    "<br><br><br><br><br><br>\n",
    "## Python modules\n",
    "Some functions are not available by default but are readily accessible if you *import a module (or \"package\")* with the syntax \n",
    "`import <module>`\n",
    "\n",
    "The `math` module will be very handy for our purposes. Try running the following:\n",
    "\n",
    "```python\n",
    ">>> import math\n",
    ">>> math.cos(2*math.pi)\n",
    "```\n",
    "Note the general syntax here: once we have imported a module, we can access its *methods* with a dot after the package name.\n",
    "\n",
    "**Note:** In the script editor window in Spyder (the main one on the left of the screen), you should have *syntax completion*, which will automatically make suggestions as you type. Try typing \n",
    "\n",
    "```python\n",
    "import math\n",
    "math.\n",
    "```\n",
    "and note the dialogue window that pops open after you type the period; the list refines as you continue typing. Table 2.3 (pg 14) also offers a list of some common math functions. If this autocmopletion does not work, just look up the official documentation for function lists.\n",
    "\n",
    "Determine the following:\n",
    "\n",
    "* `sin(32.8`&deg;`)`\n",
    "\n",
    "* $\\pi^{\\pi}$\n",
    "\n",
    "* `9!`\n",
    "\n",
    "* The hypotenuse of a right triangle with sides of length 2.50 & 8.42\n"
   ]
  },
  {
   "cell_type": "code",
   "execution_count": null,
   "metadata": {},
   "outputs": [],
   "source": [
    "import math\n",
    "math.hypot(2.50,8.42)"
   ]
  },
  {
   "cell_type": "markdown",
   "metadata": {},
   "source": [
    "<br><br><br><br><br><br><br><br><br><br><br><br>\n",
    "One can also use the following command to provide a shorthand for calling functions from a package:\n",
    "```python\n",
    "import numpy as np\n",
    "```\n",
    "If you use the above command, you can then call functions using `np.` rather than `numpy.`. For instance, you would use `np.sqrt()` rather than `numpy.sqrt()`. When writing long programs, this abbreviation can be time- and space-saving.\n",
    "\n",
    "You can also import individual functions (rather than the whole package) using functions such as the following:\n",
    "```python\n",
    ">>> from math import pi, sin\n",
    "```\n",
    "If you use this command, you can use `math.pi`and `math.sin`, but none of the other functions from the `math` package."
   ]
  },
  {
   "cell_type": "markdown",
   "metadata": {},
   "source": [
    "<br><br><br><br><br><br><br><br><br><br><br><br>\n",
    "## Built-in functions\n",
    "There are built-in functions that do not require importing from any package (e.g. `float()`). End of story.\n",
    "\n",
    "<br><br><br><br><br><br><br><br><br><br><br><br>\n",
    "## Commenting\n",
    "Short written programs can often be easy to understand just by looking at the code. As programs get longer and more complex, this readability quickly gets worse. I encourage you in the strongest terms to provide what are called *comments* throughout your code. See the following example:\n",
    "\n",
    "```python\n",
    "from math import sin,cos,pi\n",
    "# Ask the user for the value of the radius and angle\n",
    "r = float(input(\"Enter r: \"))\n",
    "d = float(input(\"Enter theta in degrees: \"))\n",
    "\n",
    "#Convert the angle to radians\n",
    "theta = d*pi/180\n",
    "\n",
    "# Calculate the equivalent Cartesian coordinates\n",
    "x = r*cos(theta)\n",
    "y = r*sin(theta)\n",
    "\n",
    "# Print out the results\n",
    "print(\"x =\",x,\" y =\",y) #This command prints the results\n",
    "```\n",
    "Note that everything after a `#` in a statement is ignored and has no effect on the operation of the program. It *does* have an effect on a reader's understanding of the code, especially if that reader is you from two years in the future or someone else needing to use your code.\n",
    "\n",
    "Lesson: Comment liberally!"
   ]
  },
  {
   "cell_type": "markdown",
   "metadata": {},
   "source": [
    "<br><br><br><br><br><br><br><br><br><br><br><br>\n",
    "\n",
    "## Homework #1 note that may be of interest\n",
    "\n",
    "Note:\n",
    "To include a section of text in a Python file, start and end with a lines of three double quotes, like so:\n",
    "\n",
    "```python\n",
    "\"\"\"\n",
    "Some text! It won't be evaluated by Python if you run the file. Neither will the code written below:\n",
    "print(\"This will NOT be executed by Python if run.\")\n",
    "\"\"\"\n",
    "\n",
    "print(\"This will be executed by Python if run.\")\n",
    "```"
   ]
  },
  {
   "cell_type": "code",
   "execution_count": null,
   "metadata": {},
   "outputs": [],
   "source": []
  },
  {
   "cell_type": "code",
   "execution_count": null,
   "metadata": {},
   "outputs": [],
   "source": []
  }
 ],
 "metadata": {
  "anaconda-cloud": {},
  "kernelspec": {
   "display_name": "Python 3",
   "language": "python",
   "name": "python3"
  },
  "language_info": {
   "codemirror_mode": {
    "name": "ipython",
    "version": 3
   },
   "file_extension": ".py",
   "mimetype": "text/x-python",
   "name": "python",
   "nbconvert_exporter": "python",
   "pygments_lexer": "ipython3",
   "version": "3.8.5"
  }
 },
 "nbformat": 4,
 "nbformat_minor": 4
}
