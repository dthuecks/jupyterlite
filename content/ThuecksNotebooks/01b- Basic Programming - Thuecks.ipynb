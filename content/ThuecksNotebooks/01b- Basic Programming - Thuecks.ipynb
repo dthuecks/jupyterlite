{
 "cells": [
  {
   "cell_type": "markdown",
   "metadata": {},
   "source": [
    "# 1b - Basic Programming (cntd) <br> *(Ch. 2.2)*\n",
    "\n",
    "## Output and Input Statements\n",
    "\n",
    "We've already been using the `print()` command, which is an example of an output command. For many programs, we desire to provide *inputs* to our program and for the program to then provide some useful *output*. \n",
    "\n",
    "Try the following examples and discuss what they do:\n",
    "```python\n",
    ">>> x = 1\n",
    ">>> y = 2\n",
    ">>> print(x,y)\n",
    ">>> print(x,y,sep=\"...\")\n",
    "\n",
    ">>> x , y = 3 , 5.0\n",
    ">>> print(x,y)\n",
    ">>> print(x,y,sep=\" , \")\n",
    "    \n",
    ">>> x = 0.3\n",
    ">>> print(\"Late homework is penalized by\",x,\"percent for every hour it is late.\")\n",
    "    \n",
    ">>> x = input(\"Enter here the grade you will receive if you develop Skynet in this course: \")\n",
    ">>> print(\"If you develop Skynet, not only will you receive a grade of\",x,\"but all of humanity will curse your name for all of time. Have a nice day.\")\n",
    "```\n",
    "<br><br><br><br><br><br><br><br><br>\n",
    "For the following set of commands, run it twice: \n",
    "* first entering a value of 59 at the prompt,  \n",
    "* next entering the word 'black'.\n",
    "\n",
    "```python\n",
    ">>> xtemp = input(\"Enter the age of Dr. Thuecks (in years):\") \n",
    ">>> x = float(xtemp)\n",
    ">>> print(\"Dr. Thuecks is\",x,\"years old\")\n",
    "```\n",
    "Without the second line, the program would have run without an error in the second instance but the statement would not make sense. After all, 'black' is not an age, it is the color of Dr. Thuecks's soul. The second line provides one example of a way to prevent nonsense input from being provided. "
   ]
  },
  {
   "cell_type": "markdown",
   "metadata": {},
   "source": [
    "<br><br><br><br><br><br><br><br><br><br>\n",
    "\n",
    "## One of the most practical uses for strings is in summarizing the output of a program.\n",
    "\n",
    "In these cases it is useful to use string formatting. For example, try:"
   ]
  },
  {
   "cell_type": "code",
   "execution_count": null,
   "metadata": {},
   "outputs": [],
   "source": [
    "person = 'Han'\n",
    "place = 'Mos Eisley Cantina'\n",
    "weapon = 'blaster'\n",
    "s = 'The murder was done by {0} in the {1} with the {2}.'.format(person,place,weapon)\n",
    "print(s + ' #HanShotFirst #Maclunkey')"
   ]
  },
  {
   "cell_type": "markdown",
   "metadata": {},
   "source": [
    "<br><br><br><br><br><br><br><br><br><br>\n",
    "​\n",
    "### There are many ways to customize the output, but we generally only care about a few.\n",
    "​\n",
    "We can specify the format and precision of floating point numbers by adding a colon after the placeholder index. For example:\n",
    "​\n",
    "* `{0:.3f}  ` specifies a floating point format with 3 places after the decimal\n",
    "​\n",
    "* `{0:.2g}  ` specifies a general numeric format with 2 numbers; the format goes to scientific notation for very large or small numbers\n",
    "​\n",
    "* `{0:.2E}  ` specifies exponential (i.e., scientific) notation with 2 places after the decimal.\n",
    "​\n",
    "Try the below code, but with all of the above examples substituted in for `{0}`:\n",
    "​\n",
    "```python\n",
    "score = 5.6789\n",
    "s = 'The restaurant has a customer rating of {0:.2g}.'.format(score)\n",
    "print(s)\n",
    "```\n",
    "\n",
    "Experiment a bit with varying the formatting for several values of `score` (e.g. very small, very large, and 5.6789)."
   ]
  },
  {
   "cell_type": "code",
   "execution_count": null,
   "metadata": {},
   "outputs": [],
   "source": [
    "score = 5.6789\n",
    "s = 'The restaurant has a customer rating of {0:.2g}.'.format(score)\n",
    "print(s)"
   ]
  },
  {
   "cell_type": "markdown",
   "metadata": {},
   "source": [
    "<br><br><br><br><br><br><br><br><br><br><br><br><br><br><br>\n",
    "## Arithmetic\n",
    "Mathematical operators (Section 2.2.4):\n",
    "\n",
    "* `+` addition\n",
    "\n",
    "* `-` subtraction\n",
    "\n",
    "* `*` multiplication\n",
    "\n",
    "* `/` floating point division\n",
    "\n",
    "* `//` integer division\n",
    "\n",
    "* `%` modulus (remainder)\n",
    "\n",
    "* `**` exponentiation\n",
    "\n",
    "Try a few examples on your own machine and make sure you understand what each operation does:\n",
    "\n",
    "```python\n",
    ">>> 5 + 3\n",
    ">>> 5.0 / 2.0\n",
    ">>> 5.0 // 2.0\n",
    ">>> 5.0 % 2.0\n",
    ">>> 2**3**2\n",
    "```"
   ]
  },
  {
   "cell_type": "code",
   "execution_count": null,
   "metadata": {},
   "outputs": [],
   "source": [
    "5.0 % 2.0"
   ]
  },
  {
   "cell_type": "markdown",
   "metadata": {},
   "source": [
    "<br><br><br><br><br><br><br><br><br>\n",
    "\n",
    "### Operator Precedence (Table 2.2):\n",
    "\n",
    "* `**          (highest)`\n",
    "\n",
    "* `*,/,//,%    (left to right in statement)`\n",
    "\n",
    "* `+,-         (lowest)`\n",
    "\n",
    "Among operators of equal precedence, priority runs left to right as written in an expression (except for exponentiation, which is right to left).\n",
    "\n",
    "This can differ from the usual \"PEMDAS\" order of operations!\n",
    "\n",
    "*When in doubt, use parentheses!*\n",
    "\n",
    "Some more examples:\n",
    "\n",
    "```python\n",
    ">>> 9/3*2\n",
    ">>> 9*3/2\n",
    ">>> 3**2**2\n",
    ">>> 3**(2**2)\n",
    ">>> (3**2)**2\n",
    "```"
   ]
  },
  {
   "cell_type": "code",
   "execution_count": null,
   "metadata": {},
   "outputs": [],
   "source": [
    "3**2**2"
   ]
  },
  {
   "cell_type": "markdown",
   "metadata": {},
   "source": [
    "<br><br><br><br><br><br><br><br><br><br><br><br>\n",
    "## You are now equipped to use Python as a simple scientific calculator (woo!).\n",
    "\n",
    "For anything more complex, we will need to invoke the idea of a *variable*, which references an *object* like an integer or a floating point number. \n",
    "\n",
    "For example, try:"
   ]
  },
  {
   "cell_type": "code",
   "execution_count": null,
   "metadata": {},
   "outputs": [],
   "source": [
    "x = 5\n",
    "y = 10\n",
    "x*y"
   ]
  },
  {
   "cell_type": "markdown",
   "metadata": {},
   "source": [
    "<br><br><br><br><br><br><br><br><br>\n",
    "\n",
    "### Let's try an example (E2.3) to show the power of variables.\n",
    "\n",
    "*Heron's formula* gives the area of a triangle with sides a, b, and c as:\n",
    "\n",
    "$$ \\Large A = \\sqrt{s(s-a)(s-b)(s-c)}\\text{ where }s=\\frac{1}{2}(a+b+c) $$\n",
    "\n",
    "In the main **editor** window in Spyder, write a program that determines the area of a triangle with arbitrary values for a, b, and c. Test it for\n",
    "\n",
    "```python\n",
    "a = 3\n",
    "b = 4\n",
    "c = 5\n",
    "```\n",
    "*Hint: Press the green arrow to run the program*\n",
    "<br><br><br><br><br>"
   ]
  },
  {
   "cell_type": "code",
   "execution_count": null,
   "metadata": {},
   "outputs": [],
   "source": [
    "a=3\n",
    "b=4\n",
    "c=5\n",
    "\n",
    "s = 0.5*(a+b+c)\n",
    "A = (s*(s-a)*(s-b)*(s-c))**0.5\n",
    "print(A)"
   ]
  },
  {
   "cell_type": "markdown",
   "metadata": {},
   "source": [
    "<br><br><br><br><br><br><br><br><br><br><br><br>\n",
    "\n",
    "### When manipulating variables, we often use *augmented assignment* as a shorthand.\n",
    "\n",
    "The syntax is:\n",
    "\n",
    "* `+=    increase by what follows, e.g. a += 2`\n",
    "\n",
    "* `-=    decrease by what follows, e.g. a -= 2`\n",
    "\n",
    "* `*=    multiply by what follows, e.g. a *= 2`\n",
    "\n",
    "* `/=    divide by what follows,   e.g. a /= 2`\n",
    "\n",
    "For example, the following two blocks of code are identical:\n",
    "\n",
    "```python\n",
    "  Code 1               Code 2     \n",
    ">>> a = 7            >>> a = 7\n",
    "\n",
    ">>> a = a + 2        >>> a += 2\n",
    ">>> a = a - 2        >>> a -= 2\n",
    ">>> a = a * 2        >>> a *= 2\n",
    ">>> a = a / 2        >>> a /= 2\n",
    "```\n",
    "\n",
    "This further emphasizes that `=`  has a different meaning in code than its standard mathematical meaning. "
   ]
  },
  {
   "cell_type": "markdown",
   "metadata": {},
   "source": [
    "<br><br><br><br><br><br><br><br><br><br><br><br>\n",
    "\n",
    "## Exercise 2.2: Altitude of a satelite\n",
    "A satellite is to be launched into a circular orbit around the Earth so that it orbits the planet once every *T* seconds.\n",
    "\n",
    "a) Show that the altitude $h$ above the Earth's surface that the satellite must have is \n",
    "$$ h = \\left(\\frac{GMT^2}{4\\pi^2}\\right)^{1/3} - R,$$\n",
    "where $G = 6.67 \\times 10^{-11}$ m$^3$kg$^{-1}$s$^{-2}$ is Newton's gravitational constant, $M = 5.97 \\times 10^{24}$ kg is the mass of the Earth, and $R=6371$ km is its radius.\n",
    "\n",
    "<span style=\"color:blue\">Answer: Equate centripetal acceleration with gravity, so that $GM/r=\\omega^2 r$ and then note that $r=R+h$ and $\\omega=2\\pi/T$ and rearrange.</span>\n",
    "\n",
    "b) Write a program that asks the user to enter the desired value of $T$ and then calculates and prints out the correct altitude in meters.\n",
    "\n",
    "c) Use your program to calculate the altitudes of satellites that orbit the Earth once a day (so-called \"geosynchronous\" orbit), once every 90 minutes, and once every 45 minutes. What do you conclude from the last of these calculations?\n",
    "\n",
    "d) Technically a geosynchronous satellite is one that orbits the Earth once per *sidreal day*, which is 23.93 hours, not 24 hours. Why is this? And how much difference will it make to the altitude of the satellite?\n",
    "<br><br><br><br><br><br>\n"
   ]
  },
  {
   "cell_type": "code",
   "execution_count": null,
   "metadata": {},
   "outputs": [],
   "source": [
    "# Using current knowledge\n",
    "from math import pi\n",
    "\n",
    "G = 6.67e-11 # Gravitational constant in m^3 kg^-1 s^-2\n",
    "M = 5.97e24 # Mass of Earth in kg\n",
    "R = 6371e3 # Radius of Earth in m\n",
    "\n",
    "T = float(input(\"Enter period in seconds: \"))\n",
    "h = (G*M*T**2/(4*pi**2))**(1/3) - R # Orbit altitude\n",
    "print(\"The required altitude for T=\",T,\"seconds is h=\",h/1000,\"kilometers\")"
   ]
  },
  {
   "cell_type": "code",
   "execution_count": null,
   "metadata": {},
   "outputs": [],
   "source": [
    "# Using coding techniques from the next couple of days\n",
    "from numpy import pi, array, size\n",
    "\n",
    "T = array([24*60*60.,23.93*60*60., 90*60., 45*60.]) # T expressed in seconds\n",
    "T_labels = ['1 day','1 sidereal day','90 minutes','45 minutes']\n",
    "\n",
    "G = 6.67e-11 # Gravitational constant in m^3 kg^-1 s^-2\n",
    "M = 5.97e24 # Mass of Earth in kg\n",
    "R = 6371e3 # Radius of Earth in m\n",
    "\n",
    "h = (G*M*T**2/(4*pi**2))**(1/3) - R\n",
    "\n",
    "for i in range(size(T)):\n",
    "    print(\"The required altitude for T=\",T_labels[i],\"is h=\",h[i]/1000,\"kilometers\")"
   ]
  },
  {
   "cell_type": "markdown",
   "metadata": {},
   "source": [
    "<br><br><br><br><br><br><br><br><br><br>\n",
    "\n",
    "## Standard mathematical functions\n",
    "\n",
    "When you load Python, it provides a library of *built-in* functions that are immediately accessible. \n",
    "\n",
    "Try:\n",
    "```python\n",
    ">>> abs(-2.5)\n",
    ">>> abs(2.5)\n",
    ">>> abs(4+3j)\n",
    ">>> round(3.5)\n",
    ">>> round(4.5)\n",
    "```"
   ]
  },
  {
   "cell_type": "code",
   "execution_count": null,
   "metadata": {},
   "outputs": [],
   "source": [
    "round(-3.5)"
   ]
  },
  {
   "cell_type": "markdown",
   "metadata": {},
   "source": [
    "<br><br><br><br><br><br>\n",
    "## Python modules\n",
    "Some functions are not available by default but are readily accessible if you *import a module (or \"package\")* with the syntax \n",
    "`import <module>`\n",
    "\n",
    "The `math` module will be very handy for our purposes. Try running the following:\n",
    "\n",
    "```python\n",
    ">>> import math\n",
    ">>> math.cos(2*math.pi)\n",
    "```\n",
    "Note the general syntax here: once we have imported a module, we can access its *methods* with a dot after the package name.\n",
    "\n",
    "**Note:** In the script editor window in Spyder (the main one on the left of the screen), you should have *syntax completion*, which will automatically make suggestions as you type. Try typing \n",
    "\n",
    "```python\n",
    "import math\n",
    "math.\n",
    "```\n",
    "and note the dialogue window that pops open after you type the period; the list refines as you continue typing. Table 2.3 (pg 14) also offers a list of some common math functions. If this autocmopletion does not work, just look up the official documentation for function lists.\n",
    "\n",
    "Determine the following:\n",
    "\n",
    "* `sin(32.8`&deg;`)`\n",
    "\n",
    "* $\\pi^{\\pi}$\n",
    "\n",
    "* `9!`\n",
    "\n",
    "* The hypotenuse of a right triangle with sides of length 2.50 & 8.42\n"
   ]
  },
  {
   "cell_type": "code",
   "execution_count": null,
   "metadata": {},
   "outputs": [],
   "source": [
    "import math\n",
    "math.hypot(2.50,8.42)"
   ]
  },
  {
   "cell_type": "markdown",
   "metadata": {},
   "source": [
    "<br><br><br><br><br><br><br><br><br><br><br><br>\n",
    "One can also use the following command to provide a shorthand for calling functions from a package:\n",
    "```python\n",
    "import numpy as np\n",
    "```\n",
    "If you use the above command, you can then call functions using `np.` rather than `numpy.`. For instance, you would use `np.sqrt()` rather than `numpy.sqrt()`. When writing long programs, this abbreviation can be time- and space-saving.\n",
    "\n",
    "You can also import individual functions (rather than the whole package) using functions such as the following:\n",
    "```python\n",
    ">>> from math import pi, sin\n",
    "```\n",
    "If you use this command, you can use `math.pi`and `math.sin`, but none of the other functions from the `math` package."
   ]
  },
  {
   "cell_type": "markdown",
   "metadata": {},
   "source": [
    "<br><br><br><br><br><br><br><br><br><br><br><br>\n",
    "## Built-in functions\n",
    "There are built-in functions that do not require importing from any package (e.g. `float()`). End of story.\n",
    "\n",
    "<br><br><br><br><br><br><br><br><br><br><br><br>\n",
    "## Commenting\n",
    "Short written programs can often be easy to understand just by looking at the code. As programs get longer and more complex, this readability quickly gets worse. I encourage you in the strongest terms to provide what are called *comments* throughout your code. See the following example:\n",
    "\n",
    "```python\n",
    "from math import sin,cos,pi\n",
    "# Ask the user for the value of the radius and angle\n",
    "r = float(input(\"Enter r: \"))\n",
    "d = float(input(\"Enter theta in degrees: \"))\n",
    "\n",
    "#Convert the angle to radians\n",
    "theta = d*pi/180\n",
    "\n",
    "# Calculate the equivalent Cartesian coordinates\n",
    "x = r*cos(theta)\n",
    "y = r*sin(theta)\n",
    "\n",
    "# Print out the results\n",
    "print(\"x =\",x,\" y =\",y) #This command prints the results\n",
    "```\n",
    "Note that everything after a `#` in a statement is ignored and has no effect on the operation of the program. It *does* have an effect on a reader's understanding of the code, especially if that reader is you from two years in the future or someone else needing to use your code.\n",
    "\n",
    "Lesson: Comment liberally!"
   ]
  },
  {
   "cell_type": "markdown",
   "metadata": {},
   "source": [
    "<br><br><br><br><br><br><br><br><br><br><br><br>\n",
    "\n",
    "## Homework #1 note that may be of interest\n",
    "\n",
    "Note:\n",
    "To include a section of text in a Python file, start and end with a lines of three double quotes, like so:\n",
    "\n",
    "```python\n",
    "\"\"\"\n",
    "Some text! It won't be evaluated by Python if you run the file. Neither will the code written below:\n",
    "print(\"This will NOT be executed by Python if run.\")\n",
    "\"\"\"\n",
    "\n",
    "print(\"This will be executed by Python if run.\")\n",
    "```"
   ]
  },
  {
   "cell_type": "code",
   "execution_count": null,
   "metadata": {},
   "outputs": [],
   "source": []
  },
  {
   "cell_type": "code",
   "execution_count": null,
   "metadata": {},
   "outputs": [],
   "source": []
  }
 ],
 "metadata": {
  "anaconda-cloud": {},
  "kernelspec": {
   "display_name": "Python 3",
   "language": "python",
   "name": "python3"
  },
  "language_info": {
   "codemirror_mode": {
    "name": "ipython",
    "version": 3
   },
   "file_extension": ".py",
   "mimetype": "text/x-python",
   "name": "python",
   "nbconvert_exporter": "python",
   "pygments_lexer": "ipython3",
   "version": "3.7.4"
  }
 },
 "nbformat": 4,
 "nbformat_minor": 4
}
