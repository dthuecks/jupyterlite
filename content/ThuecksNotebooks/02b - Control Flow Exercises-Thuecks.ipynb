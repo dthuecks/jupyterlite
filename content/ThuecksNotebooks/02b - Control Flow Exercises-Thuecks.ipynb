{
 "cells": [
  {
   "cell_type": "markdown",
   "metadata": {},
   "source": [
    "# 2b - Conditional loops II<br>*(Ch. 2.3)*\n",
    "\n"
   ]
  },
  {
   "cell_type": "markdown",
   "metadata": {},
   "source": [
    "### Exercise\n",
    "\n",
    "Write a script that determines the sum of the even numbers in the range $[0,N]$ and, separately, the sum of the odd numbers in the same range. Test your code for $N=100$.\n",
    "\n",
    "<br><br><br><br><br><br><br><br><br><br><br><br><br><br><br><br>\n",
    "\n",
    "### Exercise\n",
    "\n",
    "The value of $\\pi$ may be approximated by Monte Carlo methods. Consider the region of the $xy$-plane bounded by $0\\le x\\le 1$ and $0\\le y\\le 1$. By selecting a large number of random points within this region and counting the proportion of them lying beneath the function $y=\\sqrt{1-x^2}$ describing a quarter-circle, one can estimate $\\pi/4$, this being the area bounded by the axes and $y(x)$. Write a program to estimate the value of $\\pi$ by this method.\n",
    "\n",
    "*Hint:* use Python's `random` module. The method `random.random()` generates a pseudo-random number between 0 and 1. You must use `import random` at the beginning of your program.\n",
    "<br><br><br><br><br><br><br><br><br><br><br><br>"
   ]
  },
  {
   "cell_type": "code",
   "execution_count": null,
   "metadata": {},
   "outputs": [],
   "source": [
    "import random\n",
    "\n",
    "N = 1000000 # Number of random numbers\n",
    "\n",
    "num_in = 0;\n",
    "i = 1\n",
    "while i <= N:\n",
    "    x = random.random()\n",
    "    y = random.random()\n",
    "    if x**2+y**2 < 1:\n",
    "        num_in += 1\n",
    "    i += 1\n",
    "print(4*num_in/N)"
   ]
  },
  {
   "cell_type": "code",
   "execution_count": null,
   "metadata": {},
   "outputs": [],
   "source": []
  }
 ],
 "metadata": {
  "anaconda-cloud": {},
  "kernelspec": {
   "display_name": "Python 3",
   "language": "python",
   "name": "python3"
  },
  "language_info": {
   "codemirror_mode": {
    "name": "ipython",
    "version": 3
   },
   "file_extension": ".py",
   "mimetype": "text/x-python",
   "name": "python",
   "nbconvert_exporter": "python",
   "pygments_lexer": "ipython3",
   "version": "3.8.5"
  }
 },
 "nbformat": 4,
 "nbformat_minor": 4
}
